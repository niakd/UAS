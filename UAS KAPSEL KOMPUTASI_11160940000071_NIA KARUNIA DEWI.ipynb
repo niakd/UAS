{
 "cells": [
  {
   "cell_type": "markdown",
   "metadata": {},
   "source": [
    "### UAS KAPITA SELEKTA DALAM KOMPUTASI"
   ]
  },
  {
   "cell_type": "markdown",
   "metadata": {},
   "source": [
    "#### Nia Karunia Dewi 11160940000071"
   ]
  },
  {
   "cell_type": "markdown",
   "metadata": {},
   "source": [
    "### 1. Dataset"
   ]
  },
  {
   "cell_type": "markdown",
   "metadata": {},
   "source": [
    "Dataset yang saya gunakan disini adalah dataset yang saya peroleh dari https://www.kaggle.com/hesh97/titanicdataset-traincsv.\n",
    "Dimana dataset tersebut merupakan data penumpang yang selamat dan penumpang yang tidak selamat dalam tragedi tenggelamnya kapal titanic pada tahun 1912. Tenggelamnya kapal titanic merupakan salah satu kapal karam paling terkenal dalam sejarah. Yaitu tepatnya pada tanggal 15 April 1912, kapal titanic tenggelam setelah bertabrakan dengan gunung es. Kejadian tersebut telah menewaskan 1502 penumpang dari total 2.224 penumpang dan awak."
   ]
  },
  {
   "cell_type": "markdown",
   "metadata": {},
   "source": [
    "### 2. Hipotesis"
   ]
  },
  {
   "cell_type": "markdown",
   "metadata": {},
   "source": [
    "Tujuan saya melakukan analisis data ini adalah untuk mengetahui faktor yang paling memengaruhi dan menjadi penyebab korban meninggal dalam tragedi tenggelamnya kapal titanic. Disamping itu saya juga dapat mengetahui faktor yang memengaruhi tingkat keselamatan penumpang dilihat dari beberapa variabel yang tersedia. Terakhir saya akan mencoba membuat model prediksi penumpang yang selamat dengan menggunakan Random Forest Classifier."
   ]
  },
  {
   "cell_type": "markdown",
   "metadata": {},
   "source": [
    "### 3. Data Wrangling dan Preprocessing"
   ]
  },
  {
   "cell_type": "markdown",
   "metadata": {},
   "source": [
    "#### Import Modul"
   ]
  },
  {
   "cell_type": "code",
   "execution_count": 22,
   "metadata": {},
   "outputs": [
    {
     "name": "stdout",
     "output_type": "stream",
     "text": [
      "Imported Module\n"
     ]
    }
   ],
   "source": [
    "# Import modul yang dibutuhkan\n",
    "import scipy, itertools, pandas as pd, matplotlib.pyplot as plt, seaborn as sns, numpy as np\n",
    "import warnings; warnings.simplefilter('ignore')\n",
    "from scipy import stats\n",
    "from sklearn.preprocessing import StandardScaler, MinMaxScaler\n",
    "\n",
    "%matplotlib inline\n",
    "plt.style.use('bmh'); sns.set()\n",
    "\n",
    "print('Imported Module')"
   ]
  },
  {
   "cell_type": "markdown",
   "metadata": {},
   "source": [
    "#### Import Data"
   ]
  },
  {
   "cell_type": "code",
   "execution_count": 23,
   "metadata": {},
   "outputs": [],
   "source": [
    "# Importing data CSV \n",
    "data = pd.read_csv('titanic.csv')"
   ]
  },
  {
   "cell_type": "code",
   "execution_count": 5,
   "metadata": {},
   "outputs": [
    {
     "data": {
      "text/html": [
       "<div>\n",
       "<style scoped>\n",
       "    .dataframe tbody tr th:only-of-type {\n",
       "        vertical-align: middle;\n",
       "    }\n",
       "\n",
       "    .dataframe tbody tr th {\n",
       "        vertical-align: top;\n",
       "    }\n",
       "\n",
       "    .dataframe thead th {\n",
       "        text-align: right;\n",
       "    }\n",
       "</style>\n",
       "<table border=\"1\" class=\"dataframe\">\n",
       "  <thead>\n",
       "    <tr style=\"text-align: right;\">\n",
       "      <th></th>\n",
       "      <th>PassengerId</th>\n",
       "      <th>Survived</th>\n",
       "      <th>Pclass</th>\n",
       "      <th>Name</th>\n",
       "      <th>Sex</th>\n",
       "      <th>Age</th>\n",
       "      <th>SibSp</th>\n",
       "      <th>Parch</th>\n",
       "      <th>Ticket</th>\n",
       "      <th>Fare</th>\n",
       "      <th>Cabin</th>\n",
       "      <th>Embarked</th>\n",
       "    </tr>\n",
       "  </thead>\n",
       "  <tbody>\n",
       "    <tr>\n",
       "      <th>0</th>\n",
       "      <td>1</td>\n",
       "      <td>0</td>\n",
       "      <td>3</td>\n",
       "      <td>Braund, Mr. Owen Harris</td>\n",
       "      <td>male</td>\n",
       "      <td>22.0</td>\n",
       "      <td>1</td>\n",
       "      <td>0</td>\n",
       "      <td>A/5 21171</td>\n",
       "      <td>7.2500</td>\n",
       "      <td>NaN</td>\n",
       "      <td>S</td>\n",
       "    </tr>\n",
       "    <tr>\n",
       "      <th>1</th>\n",
       "      <td>2</td>\n",
       "      <td>1</td>\n",
       "      <td>1</td>\n",
       "      <td>Cumings, Mrs. John Bradley (Florence Briggs Th...</td>\n",
       "      <td>female</td>\n",
       "      <td>38.0</td>\n",
       "      <td>1</td>\n",
       "      <td>0</td>\n",
       "      <td>PC 17599</td>\n",
       "      <td>71.2833</td>\n",
       "      <td>C85</td>\n",
       "      <td>C</td>\n",
       "    </tr>\n",
       "    <tr>\n",
       "      <th>2</th>\n",
       "      <td>3</td>\n",
       "      <td>1</td>\n",
       "      <td>3</td>\n",
       "      <td>Heikkinen, Miss. Laina</td>\n",
       "      <td>female</td>\n",
       "      <td>26.0</td>\n",
       "      <td>0</td>\n",
       "      <td>0</td>\n",
       "      <td>STON/O2. 3101282</td>\n",
       "      <td>7.9250</td>\n",
       "      <td>NaN</td>\n",
       "      <td>S</td>\n",
       "    </tr>\n",
       "    <tr>\n",
       "      <th>3</th>\n",
       "      <td>4</td>\n",
       "      <td>1</td>\n",
       "      <td>1</td>\n",
       "      <td>Futrelle, Mrs. Jacques Heath (Lily May Peel)</td>\n",
       "      <td>female</td>\n",
       "      <td>35.0</td>\n",
       "      <td>1</td>\n",
       "      <td>0</td>\n",
       "      <td>113803</td>\n",
       "      <td>53.1000</td>\n",
       "      <td>C123</td>\n",
       "      <td>S</td>\n",
       "    </tr>\n",
       "    <tr>\n",
       "      <th>4</th>\n",
       "      <td>5</td>\n",
       "      <td>0</td>\n",
       "      <td>3</td>\n",
       "      <td>Allen, Mr. William Henry</td>\n",
       "      <td>male</td>\n",
       "      <td>35.0</td>\n",
       "      <td>0</td>\n",
       "      <td>0</td>\n",
       "      <td>373450</td>\n",
       "      <td>8.0500</td>\n",
       "      <td>NaN</td>\n",
       "      <td>S</td>\n",
       "    </tr>\n",
       "  </tbody>\n",
       "</table>\n",
       "</div>"
      ],
      "text/plain": [
       "   PassengerId  Survived  Pclass  \\\n",
       "0            1         0       3   \n",
       "1            2         1       1   \n",
       "2            3         1       3   \n",
       "3            4         1       1   \n",
       "4            5         0       3   \n",
       "\n",
       "                                                Name     Sex   Age  SibSp  \\\n",
       "0                            Braund, Mr. Owen Harris    male  22.0      1   \n",
       "1  Cumings, Mrs. John Bradley (Florence Briggs Th...  female  38.0      1   \n",
       "2                             Heikkinen, Miss. Laina  female  26.0      0   \n",
       "3       Futrelle, Mrs. Jacques Heath (Lily May Peel)  female  35.0      1   \n",
       "4                           Allen, Mr. William Henry    male  35.0      0   \n",
       "\n",
       "   Parch            Ticket     Fare Cabin Embarked  \n",
       "0      0         A/5 21171   7.2500   NaN        S  \n",
       "1      0          PC 17599  71.2833   C85        C  \n",
       "2      0  STON/O2. 3101282   7.9250   NaN        S  \n",
       "3      0            113803  53.1000  C123        S  \n",
       "4      0            373450   8.0500   NaN        S  "
      ]
     },
     "execution_count": 5,
     "metadata": {},
     "output_type": "execute_result"
    }
   ],
   "source": [
    "# Menampilkan beberapa data pertama\n",
    "data.head()"
   ]
  },
  {
   "cell_type": "code",
   "execution_count": 6,
   "metadata": {},
   "outputs": [
    {
     "data": {
      "text/html": [
       "<div>\n",
       "<style scoped>\n",
       "    .dataframe tbody tr th:only-of-type {\n",
       "        vertical-align: middle;\n",
       "    }\n",
       "\n",
       "    .dataframe tbody tr th {\n",
       "        vertical-align: top;\n",
       "    }\n",
       "\n",
       "    .dataframe thead th {\n",
       "        text-align: right;\n",
       "    }\n",
       "</style>\n",
       "<table border=\"1\" class=\"dataframe\">\n",
       "  <thead>\n",
       "    <tr style=\"text-align: right;\">\n",
       "      <th></th>\n",
       "      <th>PassengerId</th>\n",
       "      <th>Survived</th>\n",
       "      <th>Pclass</th>\n",
       "      <th>Name</th>\n",
       "      <th>Sex</th>\n",
       "      <th>Age</th>\n",
       "      <th>SibSp</th>\n",
       "      <th>Parch</th>\n",
       "      <th>Ticket</th>\n",
       "      <th>Fare</th>\n",
       "      <th>Cabin</th>\n",
       "      <th>Embarked</th>\n",
       "    </tr>\n",
       "  </thead>\n",
       "  <tbody>\n",
       "    <tr>\n",
       "      <th>886</th>\n",
       "      <td>887</td>\n",
       "      <td>0</td>\n",
       "      <td>2</td>\n",
       "      <td>Montvila, Rev. Juozas</td>\n",
       "      <td>male</td>\n",
       "      <td>27.0</td>\n",
       "      <td>0</td>\n",
       "      <td>0</td>\n",
       "      <td>211536</td>\n",
       "      <td>13.00</td>\n",
       "      <td>NaN</td>\n",
       "      <td>S</td>\n",
       "    </tr>\n",
       "    <tr>\n",
       "      <th>887</th>\n",
       "      <td>888</td>\n",
       "      <td>1</td>\n",
       "      <td>1</td>\n",
       "      <td>Graham, Miss. Margaret Edith</td>\n",
       "      <td>female</td>\n",
       "      <td>19.0</td>\n",
       "      <td>0</td>\n",
       "      <td>0</td>\n",
       "      <td>112053</td>\n",
       "      <td>30.00</td>\n",
       "      <td>B42</td>\n",
       "      <td>S</td>\n",
       "    </tr>\n",
       "    <tr>\n",
       "      <th>888</th>\n",
       "      <td>889</td>\n",
       "      <td>0</td>\n",
       "      <td>3</td>\n",
       "      <td>Johnston, Miss. Catherine Helen \"Carrie\"</td>\n",
       "      <td>female</td>\n",
       "      <td>NaN</td>\n",
       "      <td>1</td>\n",
       "      <td>2</td>\n",
       "      <td>W./C. 6607</td>\n",
       "      <td>23.45</td>\n",
       "      <td>NaN</td>\n",
       "      <td>S</td>\n",
       "    </tr>\n",
       "    <tr>\n",
       "      <th>889</th>\n",
       "      <td>890</td>\n",
       "      <td>1</td>\n",
       "      <td>1</td>\n",
       "      <td>Behr, Mr. Karl Howell</td>\n",
       "      <td>male</td>\n",
       "      <td>26.0</td>\n",
       "      <td>0</td>\n",
       "      <td>0</td>\n",
       "      <td>111369</td>\n",
       "      <td>30.00</td>\n",
       "      <td>C148</td>\n",
       "      <td>C</td>\n",
       "    </tr>\n",
       "    <tr>\n",
       "      <th>890</th>\n",
       "      <td>891</td>\n",
       "      <td>0</td>\n",
       "      <td>3</td>\n",
       "      <td>Dooley, Mr. Patrick</td>\n",
       "      <td>male</td>\n",
       "      <td>32.0</td>\n",
       "      <td>0</td>\n",
       "      <td>0</td>\n",
       "      <td>370376</td>\n",
       "      <td>7.75</td>\n",
       "      <td>NaN</td>\n",
       "      <td>Q</td>\n",
       "    </tr>\n",
       "  </tbody>\n",
       "</table>\n",
       "</div>"
      ],
      "text/plain": [
       "     PassengerId  Survived  Pclass                                      Name  \\\n",
       "886          887         0       2                     Montvila, Rev. Juozas   \n",
       "887          888         1       1              Graham, Miss. Margaret Edith   \n",
       "888          889         0       3  Johnston, Miss. Catherine Helen \"Carrie\"   \n",
       "889          890         1       1                     Behr, Mr. Karl Howell   \n",
       "890          891         0       3                       Dooley, Mr. Patrick   \n",
       "\n",
       "        Sex   Age  SibSp  Parch      Ticket   Fare Cabin Embarked  \n",
       "886    male  27.0      0      0      211536  13.00   NaN        S  \n",
       "887  female  19.0      0      0      112053  30.00   B42        S  \n",
       "888  female   NaN      1      2  W./C. 6607  23.45   NaN        S  \n",
       "889    male  26.0      0      0      111369  30.00  C148        C  \n",
       "890    male  32.0      0      0      370376   7.75   NaN        Q  "
      ]
     },
     "execution_count": 6,
     "metadata": {},
     "output_type": "execute_result"
    }
   ],
   "source": [
    "# Menampilkan beberapa data terakhir\n",
    "data.tail()"
   ]
  },
  {
   "cell_type": "markdown",
   "metadata": {},
   "source": [
    "#### Cek Tipe Data"
   ]
  },
  {
   "cell_type": "code",
   "execution_count": 8,
   "metadata": {},
   "outputs": [
    {
     "name": "stdout",
     "output_type": "stream",
     "text": [
      "baris =  891 , Kolom =  12\n",
      "<class 'pandas.core.frame.DataFrame'>\n",
      "RangeIndex: 891 entries, 0 to 890\n",
      "Data columns (total 12 columns):\n",
      "PassengerId    891 non-null int64\n",
      "Survived       891 non-null int64\n",
      "Pclass         891 non-null int64\n",
      "Name           891 non-null object\n",
      "Sex            891 non-null object\n",
      "Age            714 non-null float64\n",
      "SibSp          891 non-null int64\n",
      "Parch          891 non-null int64\n",
      "Ticket         891 non-null object\n",
      "Fare           891 non-null float64\n",
      "Cabin          204 non-null object\n",
      "Embarked       889 non-null object\n",
      "dtypes: float64(2), int64(5), object(5)\n",
      "memory usage: 66.2+ KB\n"
     ]
    }
   ],
   "source": [
    "# Tipe Datanya : DataFrame (df)\n",
    "type(data)\n",
    "\n",
    "# Ukuran Data\n",
    "N, P = data.shape\n",
    "print('baris = ', N, ', Kolom = ', P)\n",
    "\n",
    "data.info()"
   ]
  },
  {
   "cell_type": "code",
   "execution_count": 24,
   "metadata": {},
   "outputs": [
    {
     "data": {
      "text/plain": [
       "Index(['PassengerId', 'Survived', 'Pclass', 'Name', 'Sex', 'Age', 'SibSp',\n",
       "       'Parch', 'Ticket', 'Fare', 'Cabin', 'Embarked'],\n",
       "      dtype='object')"
      ]
     },
     "execution_count": 24,
     "metadata": {},
     "output_type": "execute_result"
    }
   ],
   "source": [
    "data.columns"
   ]
  },
  {
   "cell_type": "markdown",
   "metadata": {},
   "source": [
    "Dari info diatas dapat diketahui bahwa dataset yang digunakan memuat sebanyak 12 variabel yaitu PassengerId, Survived, Pclass, Name, Sex, Age, SibSp, Parch, Ticket, Fare, Cabin, dan Embarked, dengan jumlah data dari masing masing variabel adalah sebanyak 891. Adapun variabel dari data penumpang titanic tersebut memiliki tipe data yang berbeda-beda yaitu ada tipe data integer, float, dan object. "
   ]
  },
  {
   "cell_type": "markdown",
   "metadata": {},
   "source": [
    "#### Variable Selection"
   ]
  },
  {
   "cell_type": "code",
   "execution_count": 25,
   "metadata": {},
   "outputs": [
    {
     "data": {
      "text/plain": [
       "Survived      int64\n",
       "Pclass        int64\n",
       "Name         object\n",
       "Sex          object\n",
       "Age         float64\n",
       "SibSp         int64\n",
       "Parch         int64\n",
       "Fare        float64\n",
       "Embarked     object\n",
       "dtype: object"
      ]
     },
     "execution_count": 25,
     "metadata": {},
     "output_type": "execute_result"
    }
   ],
   "source": [
    "# Drop beberapa kolom yang tidak akan saya gunakan\n",
    "\n",
    "data.drop(['PassengerId','Ticket','Cabin'], axis=1, inplace=True)\n",
    "data.dtypes"
   ]
  },
  {
   "cell_type": "markdown",
   "metadata": {},
   "source": [
    "Saya menghapus variabel PassengerId karena variabel tersebut hanya merupakan index yang tidak berguna, kemudian untuk variabel Ticket dan Cabin juga saya hapus karena tidak diperlukan dan tidak berpengaruh dalam menentukan keselamatan penumpang. Sehingga setelah dihapus beberapa kolom yang tidak perlukan, maka yang tersisa adalah variabel Survived, Pclass, Name, Sex, Age, SipSp, Parch, Fare, Embarked.\n"
   ]
  },
  {
   "cell_type": "markdown",
   "metadata": {},
   "source": [
    "#### Preprocessing\n",
    "\n",
    "#### 1) Missing Value Analysis"
   ]
  },
  {
   "cell_type": "code",
   "execution_count": 26,
   "metadata": {},
   "outputs": [
    {
     "name": "stdout",
     "output_type": "stream",
     "text": [
      "Survived      0\n",
      "Pclass        0\n",
      "Name          0\n",
      "Sex           0\n",
      "Age         177\n",
      "SibSp         0\n",
      "Parch         0\n",
      "Fare          0\n",
      "Embarked      2\n",
      "dtype: int64\n"
     ]
    }
   ],
   "source": [
    "# Mengecek Missing Values\n",
    "print(data.isnull().sum())"
   ]
  },
  {
   "cell_type": "markdown",
   "metadata": {},
   "source": [
    "Dari hasil output diatas, terdapat beberapa variabel yang mengandung missing value yaitu Age sebanyak 177 nilai kosong dan Embarked sebanyak 2 nilai kosong. Akan tetapi ada kemungkinan bahwa terdapat missing value pada variabel Fare. Sehingga lakukan pengecekan lebih lanjut.\n",
    "\n",
    "Untuk mengatasi missing value pada variabel Embarked, saya memilih untuk imputasi dengan modus."
   ]
  },
  {
   "cell_type": "code",
   "execution_count": 42,
   "metadata": {},
   "outputs": [
    {
     "name": "stdout",
     "output_type": "stream",
     "text": [
      "Harga tiket Tertinggi: 512.3292\n",
      "Harga Tiket Terendah: 0.0\n",
      "Harga Tiket Rata rata: 32.2042079685746\n"
     ]
    }
   ],
   "source": [
    "# cek harga tiket\n",
    "print('Harga tiket Tertinggi:',data['Fare'].max())\n",
    "print('Harga Tiket Terendah:',data['Fare'].min())\n",
    "print('Harga Tiket Rata rata:',data['Fare'].mean())"
   ]
  },
  {
   "cell_type": "code",
   "execution_count": 43,
   "metadata": {},
   "outputs": [
    {
     "name": "stdout",
     "output_type": "stream",
     "text": [
      "15\n"
     ]
    }
   ],
   "source": [
    "print((data.Fare == 0).sum())"
   ]
  },
  {
   "cell_type": "markdown",
   "metadata": {},
   "source": [
    "Telihat bahwa terdapat 15 nilai nol pada harga tiket. Oleh karena itu, kita harus menandainya sebagai nilai kosong karena harga tiket tidak mungkin gratis dan harus memiliki nilai yang lebih besar dari nol."
   ]
  },
  {
   "cell_type": "code",
   "execution_count": 44,
   "metadata": {},
   "outputs": [],
   "source": [
    "# ganti nilai nol menjadi NaN\n",
    "data.Fare = data.Fare.replace(0, np.NaN)"
   ]
  },
  {
   "cell_type": "code",
   "execution_count": 45,
   "metadata": {},
   "outputs": [
    {
     "name": "stdout",
     "output_type": "stream",
     "text": [
      "0\n"
     ]
    }
   ],
   "source": [
    "# cek apakah masih terdapat nilai nol atau tidak\n",
    "print((data.Fare == 0).sum())"
   ]
  },
  {
   "cell_type": "markdown",
   "metadata": {},
   "source": [
    "##### Mengatasi Missing Value pada Variabel Fare"
   ]
  },
  {
   "cell_type": "code",
   "execution_count": 46,
   "metadata": {},
   "outputs": [
    {
     "data": {
      "text/html": [
       "<div>\n",
       "<style scoped>\n",
       "    .dataframe tbody tr th:only-of-type {\n",
       "        vertical-align: middle;\n",
       "    }\n",
       "\n",
       "    .dataframe tbody tr th {\n",
       "        vertical-align: top;\n",
       "    }\n",
       "\n",
       "    .dataframe thead th {\n",
       "        text-align: right;\n",
       "    }\n",
       "</style>\n",
       "<table border=\"1\" class=\"dataframe\">\n",
       "  <thead>\n",
       "    <tr style=\"text-align: right;\">\n",
       "      <th></th>\n",
       "      <th>Survived</th>\n",
       "      <th>Pclass</th>\n",
       "      <th>Name</th>\n",
       "      <th>Sex</th>\n",
       "      <th>Age</th>\n",
       "      <th>SibSp</th>\n",
       "      <th>Parch</th>\n",
       "      <th>Fare</th>\n",
       "      <th>Embarked</th>\n",
       "      <th>title</th>\n",
       "      <th>initial</th>\n",
       "      <th>Initial</th>\n",
       "    </tr>\n",
       "  </thead>\n",
       "  <tbody>\n",
       "    <tr>\n",
       "      <th>0</th>\n",
       "      <td>0</td>\n",
       "      <td>3</td>\n",
       "      <td>Braund, Mr. Owen Harris</td>\n",
       "      <td>male</td>\n",
       "      <td>22.0</td>\n",
       "      <td>1</td>\n",
       "      <td>0</td>\n",
       "      <td>7.2500</td>\n",
       "      <td>S</td>\n",
       "      <td>Mr.</td>\n",
       "      <td>Mr</td>\n",
       "      <td>Mr</td>\n",
       "    </tr>\n",
       "    <tr>\n",
       "      <th>1</th>\n",
       "      <td>1</td>\n",
       "      <td>1</td>\n",
       "      <td>Cumings, Mrs. John Bradley (Florence Briggs Th...</td>\n",
       "      <td>female</td>\n",
       "      <td>38.0</td>\n",
       "      <td>1</td>\n",
       "      <td>0</td>\n",
       "      <td>71.2833</td>\n",
       "      <td>C</td>\n",
       "      <td>Mrs.</td>\n",
       "      <td>Mrs</td>\n",
       "      <td>Mrs</td>\n",
       "    </tr>\n",
       "    <tr>\n",
       "      <th>2</th>\n",
       "      <td>1</td>\n",
       "      <td>3</td>\n",
       "      <td>Heikkinen, Miss. Laina</td>\n",
       "      <td>female</td>\n",
       "      <td>26.0</td>\n",
       "      <td>0</td>\n",
       "      <td>0</td>\n",
       "      <td>7.9250</td>\n",
       "      <td>S</td>\n",
       "      <td>Miss.</td>\n",
       "      <td>Miss</td>\n",
       "      <td>Miss</td>\n",
       "    </tr>\n",
       "    <tr>\n",
       "      <th>3</th>\n",
       "      <td>1</td>\n",
       "      <td>1</td>\n",
       "      <td>Futrelle, Mrs. Jacques Heath (Lily May Peel)</td>\n",
       "      <td>female</td>\n",
       "      <td>35.0</td>\n",
       "      <td>1</td>\n",
       "      <td>0</td>\n",
       "      <td>53.1000</td>\n",
       "      <td>S</td>\n",
       "      <td>Mrs.</td>\n",
       "      <td>Mrs</td>\n",
       "      <td>Mrs</td>\n",
       "    </tr>\n",
       "    <tr>\n",
       "      <th>4</th>\n",
       "      <td>0</td>\n",
       "      <td>3</td>\n",
       "      <td>Allen, Mr. William Henry</td>\n",
       "      <td>male</td>\n",
       "      <td>35.0</td>\n",
       "      <td>0</td>\n",
       "      <td>0</td>\n",
       "      <td>8.0500</td>\n",
       "      <td>S</td>\n",
       "      <td>Mr.</td>\n",
       "      <td>Mr</td>\n",
       "      <td>Mr</td>\n",
       "    </tr>\n",
       "  </tbody>\n",
       "</table>\n",
       "</div>"
      ],
      "text/plain": [
       "   Survived  Pclass                                               Name  \\\n",
       "0         0       3                            Braund, Mr. Owen Harris   \n",
       "1         1       1  Cumings, Mrs. John Bradley (Florence Briggs Th...   \n",
       "2         1       3                             Heikkinen, Miss. Laina   \n",
       "3         1       1       Futrelle, Mrs. Jacques Heath (Lily May Peel)   \n",
       "4         0       3                           Allen, Mr. William Henry   \n",
       "\n",
       "      Sex   Age  SibSp  Parch     Fare Embarked  title initial Initial  \n",
       "0    male  22.0      1      0   7.2500        S    Mr.      Mr      Mr  \n",
       "1  female  38.0      1      0  71.2833        C   Mrs.     Mrs     Mrs  \n",
       "2  female  26.0      0      0   7.9250        S  Miss.    Miss    Miss  \n",
       "3  female  35.0      1      0  53.1000        S   Mrs.     Mrs     Mrs  \n",
       "4    male  35.0      0      0   8.0500        S    Mr.      Mr      Mr  "
      ]
     },
     "execution_count": 46,
     "metadata": {},
     "output_type": "execute_result"
    }
   ],
   "source": [
    "# Isi missing value pada Fare dengan median fare dari setiap Pclass\n",
    "data[\"Fare\"].fillna(data.groupby(\"Pclass\")[\"Fare\"].transform(\"median\"), inplace=True)\n",
    "data.head(5)"
   ]
  },
  {
   "cell_type": "code",
   "execution_count": 48,
   "metadata": {},
   "outputs": [
    {
     "data": {
      "text/plain": [
       "False"
      ]
     },
     "execution_count": 48,
     "metadata": {},
     "output_type": "execute_result"
    }
   ],
   "source": [
    "# cek missing value kembali\n",
    "data.Fare.isnull().any()"
   ]
  },
  {
   "cell_type": "markdown",
   "metadata": {},
   "source": [
    "Setelah dicek ternyata sudah tidak ada nilai yang kosong pada variabel Fare"
   ]
  },
  {
   "cell_type": "markdown",
   "metadata": {},
   "source": [
    "##### Mengatasi Missing Value pada variable Embarked"
   ]
  },
  {
   "cell_type": "code",
   "execution_count": 52,
   "metadata": {},
   "outputs": [
    {
     "data": {
      "text/plain": [
       "S    646\n",
       "C    168\n",
       "Q     77\n",
       "Name: Embarked, dtype: int64"
      ]
     },
     "execution_count": 52,
     "metadata": {},
     "output_type": "execute_result"
    }
   ],
   "source": [
    "Embarked : {'S', 'C', 'Q'}\n",
    "    \n",
    "data.Embarked.value_counts()"
   ]
  },
  {
   "cell_type": "code",
   "execution_count": 27,
   "metadata": {},
   "outputs": [],
   "source": [
    "data['Embarked'].fillna('S',inplace=True) # Mengisi dengan modus dari Embarked yaitu, S"
   ]
  },
  {
   "cell_type": "code",
   "execution_count": 28,
   "metadata": {},
   "outputs": [
    {
     "data": {
      "text/plain": [
       "False"
      ]
     },
     "execution_count": 28,
     "metadata": {},
     "output_type": "execute_result"
    }
   ],
   "source": [
    "# Cek kembali apakah masih terdapat missing value atau tidak\n",
    "data.Embarked.isnull().any()"
   ]
  },
  {
   "cell_type": "markdown",
   "metadata": {},
   "source": [
    "##### Mengatasi Missing Value pada variabel Age"
   ]
  },
  {
   "cell_type": "code",
   "execution_count": 34,
   "metadata": {},
   "outputs": [
    {
     "name": "stdout",
     "output_type": "stream",
     "text": [
      "Usia penumpang paling tua: 80.0 tahun\n",
      "Usia penumpang paling muda: 0.42 tahun\n",
      "Rata rata usia penumpang: 29.69911764705882 tahun\n"
     ]
    }
   ],
   "source": [
    "print('Usia penumpang paling tua:',data['Age'].max(),'tahun')\n",
    "print('Usia penumpang paling muda:',data['Age'].min(),'tahun')\n",
    "print('Rata rata usia penumpang:',data['Age'].mean(),'tahun')"
   ]
  },
  {
   "cell_type": "markdown",
   "metadata": {},
   "source": [
    "Seperti yang telah kita cek sebelumnya, bahwa variabel Age memiliki 177 nilai kosong. Untuk mengganti nilai nilai kosong tersebut salah satu cara yang dapat kita lakukan adalah mengisinya dengan usia rata-rata dalam dataset. \n",
    "\n",
    "Akan tetapi dalam dataset tersebut terdapat banyak penumpang dengan berbagai usia. Misalnya untuk anak usia 0-5 tahun akan menghasilkan error yang cukup besar jika diisi dengan usia rata rata yaitu 29 tahun. Sehingga salah satu cara yang dapat dilakukan adalah dengan memeriksa variabel Name, dari nama penumpang kita dapat melihat bahwa dalam nama-nama tersebut terdapat kata Mr. atau Mrs. dsb. Dengan demikian dapat lebih mudah dalam menetapkan nilai rata-rata dalam masing-masing kelompok usia."
   ]
  },
  {
   "cell_type": "code",
   "execution_count": 39,
   "metadata": {},
   "outputs": [
    {
     "data": {
      "text/html": [
       "<style  type=\"text/css\" >\n",
       "    #T_17e1351e_3381_11ea_a83c_28e347b45766row0_col0 {\n",
       "            background-color:  #ffff66;\n",
       "        }    #T_17e1351e_3381_11ea_a83c_28e347b45766row0_col1 {\n",
       "            background-color:  #ffff66;\n",
       "        }    #T_17e1351e_3381_11ea_a83c_28e347b45766row0_col2 {\n",
       "            background-color:  #008066;\n",
       "        }    #T_17e1351e_3381_11ea_a83c_28e347b45766row0_col3 {\n",
       "            background-color:  #ffff66;\n",
       "        }    #T_17e1351e_3381_11ea_a83c_28e347b45766row0_col4 {\n",
       "            background-color:  #ffff66;\n",
       "        }    #T_17e1351e_3381_11ea_a83c_28e347b45766row0_col5 {\n",
       "            background-color:  #ffff66;\n",
       "        }    #T_17e1351e_3381_11ea_a83c_28e347b45766row0_col6 {\n",
       "            background-color:  #008066;\n",
       "        }    #T_17e1351e_3381_11ea_a83c_28e347b45766row0_col7 {\n",
       "            background-color:  #ffff66;\n",
       "        }    #T_17e1351e_3381_11ea_a83c_28e347b45766row0_col8 {\n",
       "            background-color:  #ffff66;\n",
       "        }    #T_17e1351e_3381_11ea_a83c_28e347b45766row0_col9 {\n",
       "            background-color:  #008066;\n",
       "        }    #T_17e1351e_3381_11ea_a83c_28e347b45766row0_col10 {\n",
       "            background-color:  #008066;\n",
       "        }    #T_17e1351e_3381_11ea_a83c_28e347b45766row0_col11 {\n",
       "            background-color:  #008066;\n",
       "        }    #T_17e1351e_3381_11ea_a83c_28e347b45766row0_col12 {\n",
       "            background-color:  #ffff66;\n",
       "        }    #T_17e1351e_3381_11ea_a83c_28e347b45766row0_col13 {\n",
       "            background-color:  #008066;\n",
       "        }    #T_17e1351e_3381_11ea_a83c_28e347b45766row0_col14 {\n",
       "            background-color:  #008066;\n",
       "        }    #T_17e1351e_3381_11ea_a83c_28e347b45766row0_col15 {\n",
       "            background-color:  #ffff66;\n",
       "        }    #T_17e1351e_3381_11ea_a83c_28e347b45766row0_col16 {\n",
       "            background-color:  #ffff66;\n",
       "        }    #T_17e1351e_3381_11ea_a83c_28e347b45766row1_col0 {\n",
       "            background-color:  #008066;\n",
       "        }    #T_17e1351e_3381_11ea_a83c_28e347b45766row1_col1 {\n",
       "            background-color:  #008066;\n",
       "        }    #T_17e1351e_3381_11ea_a83c_28e347b45766row1_col2 {\n",
       "            background-color:  #ffff66;\n",
       "        }    #T_17e1351e_3381_11ea_a83c_28e347b45766row1_col3 {\n",
       "            background-color:  #008066;\n",
       "        }    #T_17e1351e_3381_11ea_a83c_28e347b45766row1_col4 {\n",
       "            background-color:  #008066;\n",
       "        }    #T_17e1351e_3381_11ea_a83c_28e347b45766row1_col5 {\n",
       "            background-color:  #008066;\n",
       "        }    #T_17e1351e_3381_11ea_a83c_28e347b45766row1_col6 {\n",
       "            background-color:  #ffff66;\n",
       "        }    #T_17e1351e_3381_11ea_a83c_28e347b45766row1_col7 {\n",
       "            background-color:  #008066;\n",
       "        }    #T_17e1351e_3381_11ea_a83c_28e347b45766row1_col8 {\n",
       "            background-color:  #008066;\n",
       "        }    #T_17e1351e_3381_11ea_a83c_28e347b45766row1_col9 {\n",
       "            background-color:  #ffff66;\n",
       "        }    #T_17e1351e_3381_11ea_a83c_28e347b45766row1_col10 {\n",
       "            background-color:  #ffff66;\n",
       "        }    #T_17e1351e_3381_11ea_a83c_28e347b45766row1_col11 {\n",
       "            background-color:  #ffff66;\n",
       "        }    #T_17e1351e_3381_11ea_a83c_28e347b45766row1_col12 {\n",
       "            background-color:  #008066;\n",
       "        }    #T_17e1351e_3381_11ea_a83c_28e347b45766row1_col13 {\n",
       "            background-color:  #ffff66;\n",
       "        }    #T_17e1351e_3381_11ea_a83c_28e347b45766row1_col14 {\n",
       "            background-color:  #ffff66;\n",
       "        }    #T_17e1351e_3381_11ea_a83c_28e347b45766row1_col15 {\n",
       "            background-color:  #008066;\n",
       "        }    #T_17e1351e_3381_11ea_a83c_28e347b45766row1_col16 {\n",
       "            background-color:  #008066;\n",
       "        }</style>  \n",
       "<table id=\"T_17e1351e_3381_11ea_a83c_28e347b45766\" > \n",
       "<thead>    <tr> \n",
       "        <th class=\"index_name level0\" >Initial</th> \n",
       "        <th class=\"col_heading level0 col0\" >Capt</th> \n",
       "        <th class=\"col_heading level0 col1\" >Col</th> \n",
       "        <th class=\"col_heading level0 col2\" >Countess</th> \n",
       "        <th class=\"col_heading level0 col3\" >Don</th> \n",
       "        <th class=\"col_heading level0 col4\" >Dr</th> \n",
       "        <th class=\"col_heading level0 col5\" >Jonkheer</th> \n",
       "        <th class=\"col_heading level0 col6\" >Lady</th> \n",
       "        <th class=\"col_heading level0 col7\" >Major</th> \n",
       "        <th class=\"col_heading level0 col8\" >Master</th> \n",
       "        <th class=\"col_heading level0 col9\" >Miss</th> \n",
       "        <th class=\"col_heading level0 col10\" >Mlle</th> \n",
       "        <th class=\"col_heading level0 col11\" >Mme</th> \n",
       "        <th class=\"col_heading level0 col12\" >Mr</th> \n",
       "        <th class=\"col_heading level0 col13\" >Mrs</th> \n",
       "        <th class=\"col_heading level0 col14\" >Ms</th> \n",
       "        <th class=\"col_heading level0 col15\" >Rev</th> \n",
       "        <th class=\"col_heading level0 col16\" >Sir</th> \n",
       "    </tr>    <tr> \n",
       "        <th class=\"index_name level0\" >Sex</th> \n",
       "        <th class=\"blank\" ></th> \n",
       "        <th class=\"blank\" ></th> \n",
       "        <th class=\"blank\" ></th> \n",
       "        <th class=\"blank\" ></th> \n",
       "        <th class=\"blank\" ></th> \n",
       "        <th class=\"blank\" ></th> \n",
       "        <th class=\"blank\" ></th> \n",
       "        <th class=\"blank\" ></th> \n",
       "        <th class=\"blank\" ></th> \n",
       "        <th class=\"blank\" ></th> \n",
       "        <th class=\"blank\" ></th> \n",
       "        <th class=\"blank\" ></th> \n",
       "        <th class=\"blank\" ></th> \n",
       "        <th class=\"blank\" ></th> \n",
       "        <th class=\"blank\" ></th> \n",
       "        <th class=\"blank\" ></th> \n",
       "        <th class=\"blank\" ></th> \n",
       "    </tr></thead> \n",
       "<tbody>    <tr> \n",
       "        <th id=\"T_17e1351e_3381_11ea_a83c_28e347b45766level0_row0\" class=\"row_heading level0 row0\" >female</th> \n",
       "        <td id=\"T_17e1351e_3381_11ea_a83c_28e347b45766row0_col0\" class=\"data row0 col0\" >0</td> \n",
       "        <td id=\"T_17e1351e_3381_11ea_a83c_28e347b45766row0_col1\" class=\"data row0 col1\" >0</td> \n",
       "        <td id=\"T_17e1351e_3381_11ea_a83c_28e347b45766row0_col2\" class=\"data row0 col2\" >1</td> \n",
       "        <td id=\"T_17e1351e_3381_11ea_a83c_28e347b45766row0_col3\" class=\"data row0 col3\" >0</td> \n",
       "        <td id=\"T_17e1351e_3381_11ea_a83c_28e347b45766row0_col4\" class=\"data row0 col4\" >1</td> \n",
       "        <td id=\"T_17e1351e_3381_11ea_a83c_28e347b45766row0_col5\" class=\"data row0 col5\" >0</td> \n",
       "        <td id=\"T_17e1351e_3381_11ea_a83c_28e347b45766row0_col6\" class=\"data row0 col6\" >1</td> \n",
       "        <td id=\"T_17e1351e_3381_11ea_a83c_28e347b45766row0_col7\" class=\"data row0 col7\" >0</td> \n",
       "        <td id=\"T_17e1351e_3381_11ea_a83c_28e347b45766row0_col8\" class=\"data row0 col8\" >0</td> \n",
       "        <td id=\"T_17e1351e_3381_11ea_a83c_28e347b45766row0_col9\" class=\"data row0 col9\" >182</td> \n",
       "        <td id=\"T_17e1351e_3381_11ea_a83c_28e347b45766row0_col10\" class=\"data row0 col10\" >2</td> \n",
       "        <td id=\"T_17e1351e_3381_11ea_a83c_28e347b45766row0_col11\" class=\"data row0 col11\" >1</td> \n",
       "        <td id=\"T_17e1351e_3381_11ea_a83c_28e347b45766row0_col12\" class=\"data row0 col12\" >0</td> \n",
       "        <td id=\"T_17e1351e_3381_11ea_a83c_28e347b45766row0_col13\" class=\"data row0 col13\" >125</td> \n",
       "        <td id=\"T_17e1351e_3381_11ea_a83c_28e347b45766row0_col14\" class=\"data row0 col14\" >1</td> \n",
       "        <td id=\"T_17e1351e_3381_11ea_a83c_28e347b45766row0_col15\" class=\"data row0 col15\" >0</td> \n",
       "        <td id=\"T_17e1351e_3381_11ea_a83c_28e347b45766row0_col16\" class=\"data row0 col16\" >0</td> \n",
       "    </tr>    <tr> \n",
       "        <th id=\"T_17e1351e_3381_11ea_a83c_28e347b45766level0_row1\" class=\"row_heading level0 row1\" >male</th> \n",
       "        <td id=\"T_17e1351e_3381_11ea_a83c_28e347b45766row1_col0\" class=\"data row1 col0\" >1</td> \n",
       "        <td id=\"T_17e1351e_3381_11ea_a83c_28e347b45766row1_col1\" class=\"data row1 col1\" >2</td> \n",
       "        <td id=\"T_17e1351e_3381_11ea_a83c_28e347b45766row1_col2\" class=\"data row1 col2\" >0</td> \n",
       "        <td id=\"T_17e1351e_3381_11ea_a83c_28e347b45766row1_col3\" class=\"data row1 col3\" >1</td> \n",
       "        <td id=\"T_17e1351e_3381_11ea_a83c_28e347b45766row1_col4\" class=\"data row1 col4\" >6</td> \n",
       "        <td id=\"T_17e1351e_3381_11ea_a83c_28e347b45766row1_col5\" class=\"data row1 col5\" >1</td> \n",
       "        <td id=\"T_17e1351e_3381_11ea_a83c_28e347b45766row1_col6\" class=\"data row1 col6\" >0</td> \n",
       "        <td id=\"T_17e1351e_3381_11ea_a83c_28e347b45766row1_col7\" class=\"data row1 col7\" >2</td> \n",
       "        <td id=\"T_17e1351e_3381_11ea_a83c_28e347b45766row1_col8\" class=\"data row1 col8\" >40</td> \n",
       "        <td id=\"T_17e1351e_3381_11ea_a83c_28e347b45766row1_col9\" class=\"data row1 col9\" >0</td> \n",
       "        <td id=\"T_17e1351e_3381_11ea_a83c_28e347b45766row1_col10\" class=\"data row1 col10\" >0</td> \n",
       "        <td id=\"T_17e1351e_3381_11ea_a83c_28e347b45766row1_col11\" class=\"data row1 col11\" >0</td> \n",
       "        <td id=\"T_17e1351e_3381_11ea_a83c_28e347b45766row1_col12\" class=\"data row1 col12\" >517</td> \n",
       "        <td id=\"T_17e1351e_3381_11ea_a83c_28e347b45766row1_col13\" class=\"data row1 col13\" >0</td> \n",
       "        <td id=\"T_17e1351e_3381_11ea_a83c_28e347b45766row1_col14\" class=\"data row1 col14\" >0</td> \n",
       "        <td id=\"T_17e1351e_3381_11ea_a83c_28e347b45766row1_col15\" class=\"data row1 col15\" >6</td> \n",
       "        <td id=\"T_17e1351e_3381_11ea_a83c_28e347b45766row1_col16\" class=\"data row1 col16\" >1</td> \n",
       "    </tr></tbody> \n",
       "</table> "
      ],
      "text/plain": [
       "<pandas.io.formats.style.Styler at 0xa10fab0>"
      ]
     },
     "execution_count": 39,
     "metadata": {},
     "output_type": "execute_result"
    }
   ],
   "source": [
    "# Memperoleh inisial dari nama\n",
    "\n",
    "data['Initial']=0\n",
    "for i in data:\n",
    "    data['Initial']=data.Name.str.extract('([A-Za-z]+)\\.') \n",
    "    \n",
    "pd.crosstab(data.Initial,data.Sex).T.style.background_gradient(cmap='summer_r') # Cek inisial dengan variabel Sex"
   ]
  },
  {
   "cell_type": "markdown",
   "metadata": {},
   "source": [
    "Dalam kasus ini kita menggunakan Regex: ([A-Za-z] +)\\.. Dengan mencari string yang terletak di antara A-Z atau a-z dan diikuti oleh . (Titik). Sehingga akan menghasilkan Inisial dari Nama.\n",
    "\n",
    "Terlihat bahwa ada beberapa inisial yang salah eja seperti Mlle atau Mme yang mewakili Miss. Oleh karena itu, kita akan menggantinya dengan Miss dan hal yang sama untuk nilai-nilai lainnya."
   ]
  },
  {
   "cell_type": "code",
   "execution_count": 40,
   "metadata": {},
   "outputs": [
    {
     "data": {
      "text/plain": [
       "Initial\n",
       "Master     4.574167\n",
       "Miss      21.860000\n",
       "Mr        32.739609\n",
       "Mrs       35.981818\n",
       "Other     45.888889\n",
       "Name: Age, dtype: float64"
      ]
     },
     "execution_count": 40,
     "metadata": {},
     "output_type": "execute_result"
    }
   ],
   "source": [
    "data['Initial'].replace(['Mlle','Mme','Ms','Dr','Major','Lady','Countess','Jonkheer','Col','Rev','Capt','Sir','Don'],\n",
    "                        ['Miss','Miss','Miss','Mr','Mr','Mrs','Mrs','Other','Other','Other','Mr','Mr','Mr'],inplace=True)\n",
    "\n",
    "data.groupby('Initial')['Age'].mean() # Cek rata rata usia berdasarkan inisial nama"
   ]
  },
  {
   "cell_type": "code",
   "execution_count": 41,
   "metadata": {},
   "outputs": [
    {
     "data": {
      "text/plain": [
       "False"
      ]
     },
     "execution_count": 41,
     "metadata": {},
     "output_type": "execute_result"
    }
   ],
   "source": [
    "# Mengisi Missing Value \n",
    "\n",
    "data.loc[(data.Age.isnull())&(data.Initial=='Mr'),'Age']=33\n",
    "data.loc[(data.Age.isnull())&(data.Initial=='Mrs'),'Age']=36\n",
    "data.loc[(data.Age.isnull())&(data.Initial=='Master'),'Age']=5\n",
    "data.loc[(data.Age.isnull())&(data.Initial=='Miss'),'Age']=22\n",
    "data.loc[(data.Age.isnull())&(data.Initial=='Other'),'Age']=46\n",
    "\n",
    "data.Age.isnull().any() # Cek missing value kembali"
   ]
  },
  {
   "cell_type": "markdown",
   "metadata": {},
   "source": [
    "Missing value pada variabel Age berhasil diatasi."
   ]
  },
  {
   "cell_type": "markdown",
   "metadata": {},
   "source": [
    "#### 2) Outlier Analysis"
   ]
  },
  {
   "cell_type": "code",
   "execution_count": 50,
   "metadata": {},
   "outputs": [
    {
     "data": {
      "image/png": "[encoded data removed]",
      "text/plain": [
       "<Figure size 432x288 with 1 Axes>"
      ]
     },
     "metadata": {},
     "output_type": "display_data"
    }
   ],
   "source": [
    "# Mengecek outlier pada variabel fare dan age\n",
    "\n",
    "p = sns.distplot(data['Fare'], kde=True, rug=True)"
   ]
  },
  {
   "cell_type": "markdown",
   "metadata": {},
   "source": [
    "Dari hasil grafik diatas, terlihat bahwa variabel Fare tidak berdistribusi normal dan terdapat outlier, sehingga akan dilakukan penghapusan outlier pada variabel Fare tersebut yang kemudian akan disimpan pada variabel baru (data2)."
   ]
  },
  {
   "cell_type": "code",
   "execution_count": 57,
   "metadata": {},
   "outputs": [
    {
     "name": "stdout",
     "output_type": "stream",
     "text": [
      "(871, 12) (891, 12)\n"
     ]
    }
   ],
   "source": [
    "data2 = data[np.abs(data.Fare - data.Fare.mean())<=(3*data.Fare.std())] # Data tanpa outliers\n",
    "print(data2.shape, data.shape)"
   ]
  },
  {
   "cell_type": "markdown",
   "metadata": {},
   "source": [
    "Dari hasil output, terlihat perubahan ukuran dari data sebelum dihapus outlier (data) dengan ukuran data setelah dilakukan penghapusan outlier (data2).\n",
    "\n",
    "Lakukan pengecekan distribusi pada data yang sudah dilakukan penghapusan outlier."
   ]
  },
  {
   "cell_type": "code",
   "execution_count": 58,
   "metadata": {},
   "outputs": [
    {
     "data": {
      "image/png": "[encoded data removed]",
      "text/plain": [
       "<Figure size 432x288 with 1 Axes>"
      ]
     },
     "metadata": {},
     "output_type": "display_data"
    }
   ],
   "source": [
    "# Distribusi Fare pada data2\n",
    "\n",
    "p = sns.distplot(data2['Fare'], kde=True, rug=True)"
   ]
  },
  {
   "cell_type": "markdown",
   "metadata": {},
   "source": [
    "Dari visualisasi distribusi data pada data2 terlihat data sudah berdistribusi normal karena distribusi sudah berbentuk seperti bentuk lonceng. "
   ]
  },
  {
   "cell_type": "code",
   "execution_count": 51,
   "metadata": {},
   "outputs": [
    {
     "data": {
      "image/png": "[encoded data removed]",
      "text/plain": [
       "<Figure size 432x288 with 1 Axes>"
      ]
     },
     "metadata": {},
     "output_type": "display_data"
    }
   ],
   "source": [
    "# Distribusi variabel Age\n",
    "\n",
    "p = sns.distplot(data['Age'], kde=True, rug=True)"
   ]
  },
  {
   "cell_type": "markdown",
   "metadata": {},
   "source": [
    "Data pada variabel Age tersebar normal."
   ]
  },
  {
   "cell_type": "markdown",
   "metadata": {},
   "source": [
    "#### 3) Membuat variabel baru berdasarkan variabel yang sudah ada"
   ]
  },
  {
   "cell_type": "markdown",
   "metadata": {},
   "source": [
    "Disini saya membuat variabel baru dengan nama Family yang merupakan gabungan dari variabel SibSp dan Parch. Dimana Parch menyatakan jumlah orang tua/anak yang ikut naik bersama dan SibSp menyatakan jumlah saudara atau pasangan yang ikut naik bersama. Sehingga memang kedua variabel tersebut saling berhubungan dan dapat digabungkan menjadi satu variabel saja. Dengan menggabungkan kedua variabel tersebut maka analisis data pun dapat menjadi lebih mudah. "
   ]
  },
  {
   "cell_type": "code",
   "execution_count": 90,
   "metadata": {},
   "outputs": [],
   "source": [
    "data2['Family'] = data2.SibSp + data2.Parch"
   ]
  },
  {
   "cell_type": "code",
   "execution_count": 64,
   "metadata": {},
   "outputs": [],
   "source": [
    "data2.drop(['SibSp','Parch'], axis=1, inplace=True)"
   ]
  },
  {
   "cell_type": "code",
   "execution_count": 65,
   "metadata": {},
   "outputs": [
    {
     "name": "stdout",
     "output_type": "stream",
     "text": [
      "<class 'pandas.core.frame.DataFrame'>\n",
      "RangeIndex: 891 entries, 0 to 890\n",
      "Data columns (total 9 columns):\n",
      "Survived    891 non-null int64\n",
      "Pclass      891 non-null int64\n",
      "Name        891 non-null object\n",
      "Sex         891 non-null object\n",
      "Age         891 non-null float64\n",
      "Fare        891 non-null float64\n",
      "Embarked    891 non-null object\n",
      "Initial     891 non-null object\n",
      "Family      891 non-null int64\n",
      "dtypes: float64(2), int64(3), object(4)\n",
      "memory usage: 48.8+ KB\n"
     ]
    }
   ],
   "source": [
    "data2.info()"
   ]
  },
  {
   "cell_type": "markdown",
   "metadata": {},
   "source": [
    "### 4. Analisa EDA"
   ]
  },
  {
   "cell_type": "markdown",
   "metadata": {},
   "source": [
    "#### 1) Basic Statistic"
   ]
  },
  {
   "cell_type": "code",
   "execution_count": 66,
   "metadata": {},
   "outputs": [
    {
     "data": {
      "text/html": [
       "<div>\n",
       "<style scoped>\n",
       "    .dataframe tbody tr th:only-of-type {\n",
       "        vertical-align: middle;\n",
       "    }\n",
       "\n",
       "    .dataframe tbody tr th {\n",
       "        vertical-align: top;\n",
       "    }\n",
       "\n",
       "    .dataframe thead th {\n",
       "        text-align: right;\n",
       "    }\n",
       "</style>\n",
       "<table border=\"1\" class=\"dataframe\">\n",
       "  <thead>\n",
       "    <tr style=\"text-align: right;\">\n",
       "      <th></th>\n",
       "      <th>Survived</th>\n",
       "      <th>Pclass</th>\n",
       "      <th>Name</th>\n",
       "      <th>Sex</th>\n",
       "      <th>Age</th>\n",
       "      <th>Fare</th>\n",
       "      <th>Embarked</th>\n",
       "      <th>Initial</th>\n",
       "      <th>Family</th>\n",
       "    </tr>\n",
       "  </thead>\n",
       "  <tbody>\n",
       "    <tr>\n",
       "      <th>count</th>\n",
       "      <td>891.000000</td>\n",
       "      <td>891.000000</td>\n",
       "      <td>891</td>\n",
       "      <td>891</td>\n",
       "      <td>891.000000</td>\n",
       "      <td>891.000000</td>\n",
       "      <td>891</td>\n",
       "      <td>891</td>\n",
       "      <td>891.000000</td>\n",
       "    </tr>\n",
       "    <tr>\n",
       "      <th>unique</th>\n",
       "      <td>NaN</td>\n",
       "      <td>NaN</td>\n",
       "      <td>891</td>\n",
       "      <td>2</td>\n",
       "      <td>NaN</td>\n",
       "      <td>NaN</td>\n",
       "      <td>3</td>\n",
       "      <td>5</td>\n",
       "      <td>NaN</td>\n",
       "    </tr>\n",
       "    <tr>\n",
       "      <th>top</th>\n",
       "      <td>NaN</td>\n",
       "      <td>NaN</td>\n",
       "      <td>Navratil, Master. Edmond Roger</td>\n",
       "      <td>male</td>\n",
       "      <td>NaN</td>\n",
       "      <td>NaN</td>\n",
       "      <td>S</td>\n",
       "      <td>Mr</td>\n",
       "      <td>NaN</td>\n",
       "    </tr>\n",
       "    <tr>\n",
       "      <th>freq</th>\n",
       "      <td>NaN</td>\n",
       "      <td>NaN</td>\n",
       "      <td>1</td>\n",
       "      <td>577</td>\n",
       "      <td>NaN</td>\n",
       "      <td>NaN</td>\n",
       "      <td>646</td>\n",
       "      <td>529</td>\n",
       "      <td>NaN</td>\n",
       "    </tr>\n",
       "    <tr>\n",
       "      <th>mean</th>\n",
       "      <td>0.383838</td>\n",
       "      <td>2.308642</td>\n",
       "      <td>NaN</td>\n",
       "      <td>NaN</td>\n",
       "      <td>29.841942</td>\n",
       "      <td>32.689318</td>\n",
       "      <td>NaN</td>\n",
       "      <td>NaN</td>\n",
       "      <td>0.904602</td>\n",
       "    </tr>\n",
       "    <tr>\n",
       "      <th>std</th>\n",
       "      <td>0.486592</td>\n",
       "      <td>0.836071</td>\n",
       "      <td>NaN</td>\n",
       "      <td>NaN</td>\n",
       "      <td>13.281525</td>\n",
       "      <td>49.611639</td>\n",
       "      <td>NaN</td>\n",
       "      <td>NaN</td>\n",
       "      <td>1.613459</td>\n",
       "    </tr>\n",
       "    <tr>\n",
       "      <th>min</th>\n",
       "      <td>0.000000</td>\n",
       "      <td>1.000000</td>\n",
       "      <td>NaN</td>\n",
       "      <td>NaN</td>\n",
       "      <td>0.420000</td>\n",
       "      <td>4.012500</td>\n",
       "      <td>NaN</td>\n",
       "      <td>NaN</td>\n",
       "      <td>0.000000</td>\n",
       "    </tr>\n",
       "    <tr>\n",
       "      <th>25%</th>\n",
       "      <td>0.000000</td>\n",
       "      <td>2.000000</td>\n",
       "      <td>NaN</td>\n",
       "      <td>NaN</td>\n",
       "      <td>22.000000</td>\n",
       "      <td>7.925000</td>\n",
       "      <td>NaN</td>\n",
       "      <td>NaN</td>\n",
       "      <td>0.000000</td>\n",
       "    </tr>\n",
       "    <tr>\n",
       "      <th>50%</th>\n",
       "      <td>0.000000</td>\n",
       "      <td>3.000000</td>\n",
       "      <td>NaN</td>\n",
       "      <td>NaN</td>\n",
       "      <td>30.000000</td>\n",
       "      <td>14.500000</td>\n",
       "      <td>NaN</td>\n",
       "      <td>NaN</td>\n",
       "      <td>0.000000</td>\n",
       "    </tr>\n",
       "    <tr>\n",
       "      <th>75%</th>\n",
       "      <td>1.000000</td>\n",
       "      <td>3.000000</td>\n",
       "      <td>NaN</td>\n",
       "      <td>NaN</td>\n",
       "      <td>36.000000</td>\n",
       "      <td>31.275000</td>\n",
       "      <td>NaN</td>\n",
       "      <td>NaN</td>\n",
       "      <td>1.000000</td>\n",
       "    </tr>\n",
       "    <tr>\n",
       "      <th>max</th>\n",
       "      <td>1.000000</td>\n",
       "      <td>3.000000</td>\n",
       "      <td>NaN</td>\n",
       "      <td>NaN</td>\n",
       "      <td>80.000000</td>\n",
       "      <td>512.329200</td>\n",
       "      <td>NaN</td>\n",
       "      <td>NaN</td>\n",
       "      <td>10.000000</td>\n",
       "    </tr>\n",
       "  </tbody>\n",
       "</table>\n",
       "</div>"
      ],
      "text/plain": [
       "          Survived      Pclass                            Name   Sex  \\\n",
       "count   891.000000  891.000000                             891   891   \n",
       "unique         NaN         NaN                             891     2   \n",
       "top            NaN         NaN  Navratil, Master. Edmond Roger  male   \n",
       "freq           NaN         NaN                               1   577   \n",
       "mean      0.383838    2.308642                             NaN   NaN   \n",
       "std       0.486592    0.836071                             NaN   NaN   \n",
       "min       0.000000    1.000000                             NaN   NaN   \n",
       "25%       0.000000    2.000000                             NaN   NaN   \n",
       "50%       0.000000    3.000000                             NaN   NaN   \n",
       "75%       1.000000    3.000000                             NaN   NaN   \n",
       "max       1.000000    3.000000                             NaN   NaN   \n",
       "\n",
       "               Age        Fare Embarked Initial      Family  \n",
       "count   891.000000  891.000000      891     891  891.000000  \n",
       "unique         NaN         NaN        3       5         NaN  \n",
       "top            NaN         NaN        S      Mr         NaN  \n",
       "freq           NaN         NaN      646     529         NaN  \n",
       "mean     29.841942   32.689318      NaN     NaN    0.904602  \n",
       "std      13.281525   49.611639      NaN     NaN    1.613459  \n",
       "min       0.420000    4.012500      NaN     NaN    0.000000  \n",
       "25%      22.000000    7.925000      NaN     NaN    0.000000  \n",
       "50%      30.000000   14.500000      NaN     NaN    0.000000  \n",
       "75%      36.000000   31.275000      NaN     NaN    1.000000  \n",
       "max      80.000000  512.329200      NaN     NaN   10.000000  "
      ]
     },
     "execution_count": 66,
     "metadata": {},
     "output_type": "execute_result"
    }
   ],
   "source": [
    "#Statistika deskriptif data dari semua variabel(termasuk data kategorik)\n",
    "\n",
    "data2.describe(include='all')"
   ]
  },
  {
   "cell_type": "markdown",
   "metadata": {},
   "source": [
    "#### 2) Visualisasi Data"
   ]
  },
  {
   "cell_type": "code",
   "execution_count": 61,
   "metadata": {},
   "outputs": [
    {
     "data": {
      "image/png": "[encoded data removed]",
      "text/plain": [
       "<Figure size 432x288 with 1 Axes>"
      ]
     },
     "metadata": {},
     "output_type": "display_data"
    }
   ],
   "source": [
    "# Visualisasi dari informasi distribusi data, melihat jumlah penumpang yang selamat dan yang tidak selamat\n",
    "# PieChart\n",
    "Survived : {0,1}\n",
    "plot = data2.Survived.value_counts().plot.pie(explode = [0, 0.1], autopct = '%1.1f%%', shadow = True)"
   ]
  },
  {
   "cell_type": "markdown",
   "metadata": {},
   "source": [
    "Dari pie chart di atas dapat dilihat bahwa penumpang yang selamat lebih sedikit dari jumlah penumpang yang tidak selamat yaitu hanya 38,4% dari jumlah seluruh penumpang. Dalam dataset yang saya gunakan, dari total penumpang sebanyak 891 hanya sekitar 350 penumpang saja yang selamat."
   ]
  },
  {
   "cell_type": "markdown",
   "metadata": {},
   "source": [
    "##### Univariate Analysist"
   ]
  },
  {
   "cell_type": "code",
   "execution_count": 73,
   "metadata": {},
   "outputs": [
    {
     "data": {
      "text/plain": [
       "<matplotlib.axes._subplots.AxesSubplot at 0xbb721d0>"
      ]
     },
     "execution_count": 73,
     "metadata": {},
     "output_type": "execute_result"
    },
    {
     "data": {
      "image/png": "[encoded data removed]",
      "text/plain": [
       "<Figure size 1152x720 with 8 Axes>"
      ]
     },
     "metadata": {},
     "output_type": "display_data"
    }
   ],
   "source": [
    "fig, axes = plt.subplots(2, 4, figsize=(16, 10))\n",
    "sns.countplot('Survived',data=data2,ax=axes[0,0])\n",
    "sns.countplot('Pclass',data=data2,ax=axes[0,1])\n",
    "sns.countplot('Sex',data=data2,ax=axes[0,2])\n",
    "sns.countplot('Family',data=data2,ax=axes[0,3])\n",
    "sns.countplot('Embarked',data=data2,ax=axes[1,1])\n",
    "sns.distplot(data2['Fare'], kde=True,ax=axes[1,2])\n",
    "sns.distplot(data2['Age'].dropna(),kde=True,ax=axes[1,3])"
   ]
  },
  {
   "cell_type": "markdown",
   "metadata": {},
   "source": [
    "##### Melihat jumlah penumpang yang selamat dan yang tidak selamat berdasarkan Pclass"
   ]
  },
  {
   "cell_type": "code",
   "execution_count": 26,
   "metadata": {},
   "outputs": [
    {
     "data": {
      "text/html": [
       "<div>\n",
       "<style scoped>\n",
       "    .dataframe tbody tr th:only-of-type {\n",
       "        vertical-align: middle;\n",
       "    }\n",
       "\n",
       "    .dataframe tbody tr th {\n",
       "        vertical-align: top;\n",
       "    }\n",
       "\n",
       "    .dataframe thead th {\n",
       "        text-align: right;\n",
       "    }\n",
       "</style>\n",
       "<table border=\"1\" class=\"dataframe\">\n",
       "  <thead>\n",
       "    <tr style=\"text-align: right;\">\n",
       "      <th></th>\n",
       "      <th>Pclass</th>\n",
       "      <th>Survived</th>\n",
       "    </tr>\n",
       "  </thead>\n",
       "  <tbody>\n",
       "    <tr>\n",
       "      <th>0</th>\n",
       "      <td>1</td>\n",
       "      <td>0.629630</td>\n",
       "    </tr>\n",
       "    <tr>\n",
       "      <th>1</th>\n",
       "      <td>2</td>\n",
       "      <td>0.472826</td>\n",
       "    </tr>\n",
       "    <tr>\n",
       "      <th>2</th>\n",
       "      <td>3</td>\n",
       "      <td>0.242363</td>\n",
       "    </tr>\n",
       "  </tbody>\n",
       "</table>\n",
       "</div>"
      ],
      "text/plain": [
       "   Pclass  Survived\n",
       "0       1  0.629630\n",
       "1       2  0.472826\n",
       "2       3  0.242363"
      ]
     },
     "execution_count": 26,
     "metadata": {},
     "output_type": "execute_result"
    }
   ],
   "source": [
    "# Melihat penumpang yang selamat berdasarkan kelas penumpang\n",
    "\n",
    "data2[['Pclass', 'Survived']].groupby(['Pclass'], as_index=False).mean().sort_values(by='Survived', ascending=False)"
   ]
  },
  {
   "cell_type": "markdown",
   "metadata": {},
   "source": [
    "Terlihat bahwa penumpang di Pclass1 memiliki tingkat keselamatan penumpang yang lebih baik dibandingan dengan Pclass 2 dan Pclass 3 yaitu sekitar 60%. Sedangkan penumpang di Pclass 3 memiliki tingkat keselamatan penumpang yang terburuk yaitu sekitar 22%."
   ]
  },
  {
   "cell_type": "markdown",
   "metadata": {},
   "source": [
    "##### Melihat jumlah penumpang yang selamat dan yang tidak selamat berdasarkan gender"
   ]
  },
  {
   "cell_type": "code",
   "execution_count": 27,
   "metadata": {},
   "outputs": [
    {
     "data": {
      "text/html": [
       "<div>\n",
       "<style scoped>\n",
       "    .dataframe tbody tr th:only-of-type {\n",
       "        vertical-align: middle;\n",
       "    }\n",
       "\n",
       "    .dataframe tbody tr th {\n",
       "        vertical-align: top;\n",
       "    }\n",
       "\n",
       "    .dataframe thead th {\n",
       "        text-align: right;\n",
       "    }\n",
       "</style>\n",
       "<table border=\"1\" class=\"dataframe\">\n",
       "  <thead>\n",
       "    <tr style=\"text-align: right;\">\n",
       "      <th></th>\n",
       "      <th>Sex</th>\n",
       "      <th>Survived</th>\n",
       "    </tr>\n",
       "  </thead>\n",
       "  <tbody>\n",
       "    <tr>\n",
       "      <th>0</th>\n",
       "      <td>female</td>\n",
       "      <td>0.742038</td>\n",
       "    </tr>\n",
       "    <tr>\n",
       "      <th>1</th>\n",
       "      <td>male</td>\n",
       "      <td>0.188908</td>\n",
       "    </tr>\n",
       "  </tbody>\n",
       "</table>\n",
       "</div>"
      ],
      "text/plain": [
       "      Sex  Survived\n",
       "0  female  0.742038\n",
       "1    male  0.188908"
      ]
     },
     "execution_count": 27,
     "metadata": {},
     "output_type": "execute_result"
    }
   ],
   "source": [
    "#Hubungan Survived dengan Sex \n",
    "\n",
    "data2[[\"Sex\", \"Survived\"]].groupby(['Sex'], as_index=False).mean().sort_values(by='Survived', ascending=False)"
   ]
  },
  {
   "cell_type": "code",
   "execution_count": 71,
   "metadata": {},
   "outputs": [
    {
     "data": {
      "text/plain": [
       "Sex     Survived\n",
       "female  0            81\n",
       "        1           233\n",
       "male    0           468\n",
       "        1           109\n",
       "Name: Survived, dtype: int64"
      ]
     },
     "execution_count": 71,
     "metadata": {},
     "output_type": "execute_result"
    }
   ],
   "source": [
    "data2.groupby(['Sex','Survived'])['Survived'].count()"
   ]
  },
  {
   "cell_type": "code",
   "execution_count": 78,
   "metadata": {},
   "outputs": [
    {
     "data": {
      "image/png": "[encoded data removed]",
      "text/plain": [
       "<Figure size 720x360 with 1 Axes>"
      ]
     },
     "metadata": {},
     "output_type": "display_data"
    }
   ],
   "source": [
    "def bar_chart(feature):\n",
    "    survived = data2[data2['Survived']==1][feature].value_counts()\n",
    "    dead = data2[data2['Survived']==0][feature].value_counts()\n",
    "    df = pd.DataFrame([survived,dead])\n",
    "    df.index = ['Survived','Dead']\n",
    "    df.plot(kind='bar',stacked=True, figsize=(10,5))\n",
    "\n",
    "# Berdasarkan gender\n",
    "bar_chart('Sex')"
   ]
  },
  {
   "cell_type": "markdown",
   "metadata": {},
   "source": [
    "Dari diagram pada univariate analisi terlihat bahwa jumlah penumpang laki laki jauh lebih banyak dibandingkan penumpang perempuan. Akan tetapi dari diagram diatas kita dapat melihat tingkat kelangsungan hidup penumpang wanita secara signifikan lebih tinggi dibandingkan dengan pria. Dimana tingkat bertahan hidup pria adalah sekitar 20% sedangkan tingkat bertahan hidup wanita adalah sekitar 75% yang menunjukkan bahwa gender memiliki hubungan yang kuat dengan tingkat kelangsungan hidup. Yaitu dapat dikatakan bahwa tingkat kelangsungan hidup perempuan lebih tinggi dibadingkan dengan tingkat kelangsungan hidup laki laki."
   ]
  },
  {
   "cell_type": "markdown",
   "metadata": {},
   "source": [
    "##### Melihat jumlah penumpang yang selamat dan yang tidak selamat berdasarkan Embarked"
   ]
  },
  {
   "cell_type": "code",
   "execution_count": 75,
   "metadata": {},
   "outputs": [
    {
     "data": {
      "text/plain": [
       "Embarked  Survived\n",
       "C         0            75\n",
       "          1            93\n",
       "Q         0            47\n",
       "          1            30\n",
       "S         0           427\n",
       "          1           219\n",
       "Name: Survived, dtype: int64"
      ]
     },
     "execution_count": 75,
     "metadata": {},
     "output_type": "execute_result"
    }
   ],
   "source": [
    "data2.groupby(['Embarked','Survived'])['Survived'].count()"
   ]
  },
  {
   "cell_type": "code",
   "execution_count": 77,
   "metadata": {},
   "outputs": [
    {
     "data": {
      "image/png": "[encoded data removed]",
      "text/plain": [
       "<Figure size 720x360 with 1 Axes>"
      ]
     },
     "metadata": {},
     "output_type": "display_data"
    }
   ],
   "source": [
    "bar_chart('Embarked')"
   ]
  },
  {
   "cell_type": "markdown",
   "metadata": {},
   "source": [
    "Dengan melihat variabel embarked, penumpang dari pelabuhan C memiliki tingkat kelangsungan hidup yang tinggi, sedangkan penumpang dari pelabuhan S lebih banyak yang meninggal dan memiliki tingkat kelangsungan hidup yang rendah."
   ]
  },
  {
   "cell_type": "code",
   "execution_count": 10,
   "metadata": {},
   "outputs": [
    {
     "data": {
      "image/png": "[encoded data removed]",
      "text/plain": [
       "<Figure size 360x216 with 1 Axes>"
      ]
     },
     "metadata": {},
     "output_type": "display_data"
    }
   ],
   "source": [
    "sns.factorplot('Embarked','Survived',data=data2)\n",
    "fig=plt.gcf()\n",
    "fig.set_size_inches(5,3)\n",
    "plt.show()"
   ]
  },
  {
   "cell_type": "markdown",
   "metadata": {},
   "source": [
    "Peluang tertinggi untuk penumpang selamat berada di C yaitu sekitar 0,55 sedangkan peluang terendah yaitu di S."
   ]
  },
  {
   "cell_type": "markdown",
   "metadata": {},
   "source": [
    "##### Melihat jumlah penumpang yang selamat dan tidak selamat berdasarkan sex, embarked, dan pclass secara bersama sama"
   ]
  },
  {
   "cell_type": "code",
   "execution_count": 9,
   "metadata": {},
   "outputs": [
    {
     "data": {
      "text/html": [
       "<style  type=\"text/css\" >\n",
       "    #T_bb5171b8_2cb0_11ea_9107_28e347b45766row0_col0 {\n",
       "            background-color:  #fcfe66;\n",
       "        }    #T_bb5171b8_2cb0_11ea_9107_28e347b45766row0_col1 {\n",
       "            background-color:  #d2e866;\n",
       "        }    #T_bb5171b8_2cb0_11ea_9107_28e347b45766row0_col2 {\n",
       "            background-color:  #f2f866;\n",
       "        }    #T_bb5171b8_2cb0_11ea_9107_28e347b45766row0_col3 {\n",
       "            background-color:  #d8ec66;\n",
       "        }    #T_bb5171b8_2cb0_11ea_9107_28e347b45766row0_col4 {\n",
       "            background-color:  #e8f466;\n",
       "        }    #T_bb5171b8_2cb0_11ea_9107_28e347b45766row1_col0 {\n",
       "            background-color:  #ffff66;\n",
       "        }    #T_bb5171b8_2cb0_11ea_9107_28e347b45766row1_col1 {\n",
       "            background-color:  #f9fc66;\n",
       "        }    #T_bb5171b8_2cb0_11ea_9107_28e347b45766row1_col2 {\n",
       "            background-color:  #fcfe66;\n",
       "        }    #T_bb5171b8_2cb0_11ea_9107_28e347b45766row1_col3 {\n",
       "            background-color:  #fbfd66;\n",
       "        }    #T_bb5171b8_2cb0_11ea_9107_28e347b45766row1_col4 {\n",
       "            background-color:  #fbfd66;\n",
       "        }    #T_bb5171b8_2cb0_11ea_9107_28e347b45766row2_col0 {\n",
       "            background-color:  #e6f266;\n",
       "        }    #T_bb5171b8_2cb0_11ea_9107_28e347b45766row2_col1 {\n",
       "            background-color:  #f0f866;\n",
       "        }    #T_bb5171b8_2cb0_11ea_9107_28e347b45766row2_col2 {\n",
       "            background-color:  #eef666;\n",
       "        }    #T_bb5171b8_2cb0_11ea_9107_28e347b45766row2_col3 {\n",
       "            background-color:  #e8f466;\n",
       "        }    #T_bb5171b8_2cb0_11ea_9107_28e347b45766row2_col4 {\n",
       "            background-color:  #edf666;\n",
       "        }    #T_bb5171b8_2cb0_11ea_9107_28e347b45766row3_col0 {\n",
       "            background-color:  #ffff66;\n",
       "        }    #T_bb5171b8_2cb0_11ea_9107_28e347b45766row3_col1 {\n",
       "            background-color:  #ffff66;\n",
       "        }    #T_bb5171b8_2cb0_11ea_9107_28e347b45766row3_col2 {\n",
       "            background-color:  #ffff66;\n",
       "        }    #T_bb5171b8_2cb0_11ea_9107_28e347b45766row3_col3 {\n",
       "            background-color:  #ffff66;\n",
       "        }    #T_bb5171b8_2cb0_11ea_9107_28e347b45766row3_col4 {\n",
       "            background-color:  #ffff66;\n",
       "        }    #T_bb5171b8_2cb0_11ea_9107_28e347b45766row4_col0 {\n",
       "            background-color:  #ffff66;\n",
       "        }    #T_bb5171b8_2cb0_11ea_9107_28e347b45766row4_col1 {\n",
       "            background-color:  #fefe66;\n",
       "        }    #T_bb5171b8_2cb0_11ea_9107_28e347b45766row4_col2 {\n",
       "            background-color:  #ffff66;\n",
       "        }    #T_bb5171b8_2cb0_11ea_9107_28e347b45766row4_col3 {\n",
       "            background-color:  #ffff66;\n",
       "        }    #T_bb5171b8_2cb0_11ea_9107_28e347b45766row4_col4 {\n",
       "            background-color:  #ffff66;\n",
       "        }    #T_bb5171b8_2cb0_11ea_9107_28e347b45766row5_col0 {\n",
       "            background-color:  #e3f166;\n",
       "        }    #T_bb5171b8_2cb0_11ea_9107_28e347b45766row5_col1 {\n",
       "            background-color:  #e6f266;\n",
       "        }    #T_bb5171b8_2cb0_11ea_9107_28e347b45766row5_col2 {\n",
       "            background-color:  #ecf666;\n",
       "        }    #T_bb5171b8_2cb0_11ea_9107_28e347b45766row5_col3 {\n",
       "            background-color:  #f8fc66;\n",
       "        }    #T_bb5171b8_2cb0_11ea_9107_28e347b45766row5_col4 {\n",
       "            background-color:  #ebf566;\n",
       "        }    #T_bb5171b8_2cb0_11ea_9107_28e347b45766row6_col0 {\n",
       "            background-color:  #f9fc66;\n",
       "        }    #T_bb5171b8_2cb0_11ea_9107_28e347b45766row6_col1 {\n",
       "            background-color:  #cde666;\n",
       "        }    #T_bb5171b8_2cb0_11ea_9107_28e347b45766row6_col2 {\n",
       "            background-color:  #e4f266;\n",
       "        }    #T_bb5171b8_2cb0_11ea_9107_28e347b45766row6_col3 {\n",
       "            background-color:  #bede66;\n",
       "        }    #T_bb5171b8_2cb0_11ea_9107_28e347b45766row6_col4 {\n",
       "            background-color:  #dbed66;\n",
       "        }    #T_bb5171b8_2cb0_11ea_9107_28e347b45766row7_col0 {\n",
       "            background-color:  #edf666;\n",
       "        }    #T_bb5171b8_2cb0_11ea_9107_28e347b45766row7_col1 {\n",
       "            background-color:  #bdde66;\n",
       "        }    #T_bb5171b8_2cb0_11ea_9107_28e347b45766row7_col2 {\n",
       "            background-color:  #d3e966;\n",
       "        }    #T_bb5171b8_2cb0_11ea_9107_28e347b45766row7_col3 {\n",
       "            background-color:  #dcee66;\n",
       "        }    #T_bb5171b8_2cb0_11ea_9107_28e347b45766row7_col4 {\n",
       "            background-color:  #d1e866;\n",
       "        }    #T_bb5171b8_2cb0_11ea_9107_28e347b45766row8_col0 {\n",
       "            background-color:  #52a866;\n",
       "        }    #T_bb5171b8_2cb0_11ea_9107_28e347b45766row8_col1 {\n",
       "            background-color:  #dcee66;\n",
       "        }    #T_bb5171b8_2cb0_11ea_9107_28e347b45766row8_col2 {\n",
       "            background-color:  #81c066;\n",
       "        }    #T_bb5171b8_2cb0_11ea_9107_28e347b45766row8_col3 {\n",
       "            background-color:  #b0d866;\n",
       "        }    #T_bb5171b8_2cb0_11ea_9107_28e347b45766row8_col4 {\n",
       "            background-color:  #9acc66;\n",
       "        }    #T_bb5171b8_2cb0_11ea_9107_28e347b45766row9_col0 {\n",
       "            background-color:  #008066;\n",
       "        }    #T_bb5171b8_2cb0_11ea_9107_28e347b45766row9_col1 {\n",
       "            background-color:  #008066;\n",
       "        }    #T_bb5171b8_2cb0_11ea_9107_28e347b45766row9_col2 {\n",
       "            background-color:  #008066;\n",
       "        }    #T_bb5171b8_2cb0_11ea_9107_28e347b45766row9_col3 {\n",
       "            background-color:  #008066;\n",
       "        }    #T_bb5171b8_2cb0_11ea_9107_28e347b45766row9_col4 {\n",
       "            background-color:  #008066;\n",
       "        }</style>  \n",
       "<table id=\"T_bb5171b8_2cb0_11ea_9107_28e347b45766\" > \n",
       "<thead>    <tr> \n",
       "        <th class=\"blank\" ></th> \n",
       "        <th class=\"index_name level0\" >Sex</th> \n",
       "        <th class=\"col_heading level0 col0\" colspan=2>female</th> \n",
       "        <th class=\"col_heading level0 col2\" colspan=2>male</th> \n",
       "        <th class=\"col_heading level0 col4\" >All</th> \n",
       "    </tr>    <tr> \n",
       "        <th class=\"blank\" ></th> \n",
       "        <th class=\"index_name level1\" >Survived</th> \n",
       "        <th class=\"col_heading level1 col0\" >0</th> \n",
       "        <th class=\"col_heading level1 col1\" >1</th> \n",
       "        <th class=\"col_heading level1 col2\" >0</th> \n",
       "        <th class=\"col_heading level1 col3\" >1</th> \n",
       "        <th class=\"col_heading level1 col4\" ></th> \n",
       "    </tr>    <tr> \n",
       "        <th class=\"index_name level0\" >Embarked</th> \n",
       "        <th class=\"index_name level1\" >Pclass</th> \n",
       "        <th class=\"blank\" ></th> \n",
       "        <th class=\"blank\" ></th> \n",
       "        <th class=\"blank\" ></th> \n",
       "        <th class=\"blank\" ></th> \n",
       "        <th class=\"blank\" ></th> \n",
       "    </tr></thead> \n",
       "<tbody>    <tr> \n",
       "        <th id=\"T_bb5171b8_2cb0_11ea_9107_28e347b45766level0_row0\" class=\"row_heading level0 row0\" rowspan=3>C</th> \n",
       "        <th id=\"T_bb5171b8_2cb0_11ea_9107_28e347b45766level1_row0\" class=\"row_heading level1 row0\" >1</th> \n",
       "        <td id=\"T_bb5171b8_2cb0_11ea_9107_28e347b45766row0_col0\" class=\"data row0 col0\" >1</td> \n",
       "        <td id=\"T_bb5171b8_2cb0_11ea_9107_28e347b45766row0_col1\" class=\"data row0 col1\" >42</td> \n",
       "        <td id=\"T_bb5171b8_2cb0_11ea_9107_28e347b45766row0_col2\" class=\"data row0 col2\" >25</td> \n",
       "        <td id=\"T_bb5171b8_2cb0_11ea_9107_28e347b45766row0_col3\" class=\"data row0 col3\" >17</td> \n",
       "        <td id=\"T_bb5171b8_2cb0_11ea_9107_28e347b45766row0_col4\" class=\"data row0 col4\" >85</td> \n",
       "    </tr>    <tr> \n",
       "        <th id=\"T_bb5171b8_2cb0_11ea_9107_28e347b45766level1_row1\" class=\"row_heading level1 row1\" >2</th> \n",
       "        <td id=\"T_bb5171b8_2cb0_11ea_9107_28e347b45766row1_col0\" class=\"data row1 col0\" >0</td> \n",
       "        <td id=\"T_bb5171b8_2cb0_11ea_9107_28e347b45766row1_col1\" class=\"data row1 col1\" >7</td> \n",
       "        <td id=\"T_bb5171b8_2cb0_11ea_9107_28e347b45766row1_col2\" class=\"data row1 col2\" >8</td> \n",
       "        <td id=\"T_bb5171b8_2cb0_11ea_9107_28e347b45766row1_col3\" class=\"data row1 col3\" >2</td> \n",
       "        <td id=\"T_bb5171b8_2cb0_11ea_9107_28e347b45766row1_col4\" class=\"data row1 col4\" >17</td> \n",
       "    </tr>    <tr> \n",
       "        <th id=\"T_bb5171b8_2cb0_11ea_9107_28e347b45766level1_row2\" class=\"row_heading level1 row2\" >3</th> \n",
       "        <td id=\"T_bb5171b8_2cb0_11ea_9107_28e347b45766row2_col0\" class=\"data row2 col0\" >8</td> \n",
       "        <td id=\"T_bb5171b8_2cb0_11ea_9107_28e347b45766row2_col1\" class=\"data row2 col1\" >15</td> \n",
       "        <td id=\"T_bb5171b8_2cb0_11ea_9107_28e347b45766row2_col2\" class=\"data row2 col2\" >33</td> \n",
       "        <td id=\"T_bb5171b8_2cb0_11ea_9107_28e347b45766row2_col3\" class=\"data row2 col3\" >10</td> \n",
       "        <td id=\"T_bb5171b8_2cb0_11ea_9107_28e347b45766row2_col4\" class=\"data row2 col4\" >66</td> \n",
       "    </tr>    <tr> \n",
       "        <th id=\"T_bb5171b8_2cb0_11ea_9107_28e347b45766level0_row3\" class=\"row_heading level0 row3\" rowspan=3>Q</th> \n",
       "        <th id=\"T_bb5171b8_2cb0_11ea_9107_28e347b45766level1_row3\" class=\"row_heading level1 row3\" >1</th> \n",
       "        <td id=\"T_bb5171b8_2cb0_11ea_9107_28e347b45766row3_col0\" class=\"data row3 col0\" >0</td> \n",
       "        <td id=\"T_bb5171b8_2cb0_11ea_9107_28e347b45766row3_col1\" class=\"data row3 col1\" >1</td> \n",
       "        <td id=\"T_bb5171b8_2cb0_11ea_9107_28e347b45766row3_col2\" class=\"data row3 col2\" >1</td> \n",
       "        <td id=\"T_bb5171b8_2cb0_11ea_9107_28e347b45766row3_col3\" class=\"data row3 col3\" >0</td> \n",
       "        <td id=\"T_bb5171b8_2cb0_11ea_9107_28e347b45766row3_col4\" class=\"data row3 col4\" >2</td> \n",
       "    </tr>    <tr> \n",
       "        <th id=\"T_bb5171b8_2cb0_11ea_9107_28e347b45766level1_row4\" class=\"row_heading level1 row4\" >2</th> \n",
       "        <td id=\"T_bb5171b8_2cb0_11ea_9107_28e347b45766row4_col0\" class=\"data row4 col0\" >0</td> \n",
       "        <td id=\"T_bb5171b8_2cb0_11ea_9107_28e347b45766row4_col1\" class=\"data row4 col1\" >2</td> \n",
       "        <td id=\"T_bb5171b8_2cb0_11ea_9107_28e347b45766row4_col2\" class=\"data row4 col2\" >1</td> \n",
       "        <td id=\"T_bb5171b8_2cb0_11ea_9107_28e347b45766row4_col3\" class=\"data row4 col3\" >0</td> \n",
       "        <td id=\"T_bb5171b8_2cb0_11ea_9107_28e347b45766row4_col4\" class=\"data row4 col4\" >3</td> \n",
       "    </tr>    <tr> \n",
       "        <th id=\"T_bb5171b8_2cb0_11ea_9107_28e347b45766level1_row5\" class=\"row_heading level1 row5\" >3</th> \n",
       "        <td id=\"T_bb5171b8_2cb0_11ea_9107_28e347b45766row5_col0\" class=\"data row5 col0\" >9</td> \n",
       "        <td id=\"T_bb5171b8_2cb0_11ea_9107_28e347b45766row5_col1\" class=\"data row5 col1\" >24</td> \n",
       "        <td id=\"T_bb5171b8_2cb0_11ea_9107_28e347b45766row5_col2\" class=\"data row5 col2\" >36</td> \n",
       "        <td id=\"T_bb5171b8_2cb0_11ea_9107_28e347b45766row5_col3\" class=\"data row5 col3\" >3</td> \n",
       "        <td id=\"T_bb5171b8_2cb0_11ea_9107_28e347b45766row5_col4\" class=\"data row5 col4\" >72</td> \n",
       "    </tr>    <tr> \n",
       "        <th id=\"T_bb5171b8_2cb0_11ea_9107_28e347b45766level0_row6\" class=\"row_heading level0 row6\" rowspan=3>S</th> \n",
       "        <th id=\"T_bb5171b8_2cb0_11ea_9107_28e347b45766level1_row6\" class=\"row_heading level1 row6\" >1</th> \n",
       "        <td id=\"T_bb5171b8_2cb0_11ea_9107_28e347b45766row6_col0\" class=\"data row6 col0\" >2</td> \n",
       "        <td id=\"T_bb5171b8_2cb0_11ea_9107_28e347b45766row6_col1\" class=\"data row6 col1\" >46</td> \n",
       "        <td id=\"T_bb5171b8_2cb0_11ea_9107_28e347b45766row6_col2\" class=\"data row6 col2\" >51</td> \n",
       "        <td id=\"T_bb5171b8_2cb0_11ea_9107_28e347b45766row6_col3\" class=\"data row6 col3\" >28</td> \n",
       "        <td id=\"T_bb5171b8_2cb0_11ea_9107_28e347b45766row6_col4\" class=\"data row6 col4\" >127</td> \n",
       "    </tr>    <tr> \n",
       "        <th id=\"T_bb5171b8_2cb0_11ea_9107_28e347b45766level1_row7\" class=\"row_heading level1 row7\" >2</th> \n",
       "        <td id=\"T_bb5171b8_2cb0_11ea_9107_28e347b45766row7_col0\" class=\"data row7 col0\" >6</td> \n",
       "        <td id=\"T_bb5171b8_2cb0_11ea_9107_28e347b45766row7_col1\" class=\"data row7 col1\" >61</td> \n",
       "        <td id=\"T_bb5171b8_2cb0_11ea_9107_28e347b45766row7_col2\" class=\"data row7 col2\" >82</td> \n",
       "        <td id=\"T_bb5171b8_2cb0_11ea_9107_28e347b45766row7_col3\" class=\"data row7 col3\" >15</td> \n",
       "        <td id=\"T_bb5171b8_2cb0_11ea_9107_28e347b45766row7_col4\" class=\"data row7 col4\" >164</td> \n",
       "    </tr>    <tr> \n",
       "        <th id=\"T_bb5171b8_2cb0_11ea_9107_28e347b45766level1_row8\" class=\"row_heading level1 row8\" >3</th> \n",
       "        <td id=\"T_bb5171b8_2cb0_11ea_9107_28e347b45766row8_col0\" class=\"data row8 col0\" >55</td> \n",
       "        <td id=\"T_bb5171b8_2cb0_11ea_9107_28e347b45766row8_col1\" class=\"data row8 col1\" >33</td> \n",
       "        <td id=\"T_bb5171b8_2cb0_11ea_9107_28e347b45766row8_col2\" class=\"data row8 col2\" >231</td> \n",
       "        <td id=\"T_bb5171b8_2cb0_11ea_9107_28e347b45766row8_col3\" class=\"data row8 col3\" >34</td> \n",
       "        <td id=\"T_bb5171b8_2cb0_11ea_9107_28e347b45766row8_col4\" class=\"data row8 col4\" >353</td> \n",
       "    </tr>    <tr> \n",
       "        <th id=\"T_bb5171b8_2cb0_11ea_9107_28e347b45766level0_row9\" class=\"row_heading level0 row9\" >All</th> \n",
       "        <th id=\"T_bb5171b8_2cb0_11ea_9107_28e347b45766level1_row9\" class=\"row_heading level1 row9\" ></th> \n",
       "        <td id=\"T_bb5171b8_2cb0_11ea_9107_28e347b45766row9_col0\" class=\"data row9 col0\" >81</td> \n",
       "        <td id=\"T_bb5171b8_2cb0_11ea_9107_28e347b45766row9_col1\" class=\"data row9 col1\" >231</td> \n",
       "        <td id=\"T_bb5171b8_2cb0_11ea_9107_28e347b45766row9_col2\" class=\"data row9 col2\" >468</td> \n",
       "        <td id=\"T_bb5171b8_2cb0_11ea_9107_28e347b45766row9_col3\" class=\"data row9 col3\" >109</td> \n",
       "        <td id=\"T_bb5171b8_2cb0_11ea_9107_28e347b45766row9_col4\" class=\"data row9 col4\" >889</td> \n",
       "    </tr></tbody> \n",
       "</table> "
      ],
      "text/plain": [
       "<pandas.io.formats.style.Styler at 0x9a6f370>"
      ]
     },
     "execution_count": 9,
     "metadata": {},
     "output_type": "execute_result"
    }
   ],
   "source": [
    "pd.crosstab([data2.Embarked,data2.Pclass],[data2.Sex,data2.Survived],margins=True).style.background_gradient(cmap='summer_r')"
   ]
  },
  {
   "cell_type": "code",
   "execution_count": 14,
   "metadata": {},
   "outputs": [
    {
     "data": {
      "image/png": "[encoded data removed]",
      "text/plain": [
       "<Figure size 1152.85x360 with 3 Axes>"
      ]
     },
     "metadata": {},
     "output_type": "display_data"
    }
   ],
   "source": [
    "sns.factorplot('Pclass','Survived',hue='Sex',col='Embarked',data=data2)\n",
    "plt.show()"
   ]
  },
  {
   "cell_type": "markdown",
   "metadata": {},
   "source": [
    "Dari factorplot kita dapat mengetahui bahwa peluang bertahan hidup untuk penumpang wanita hampir mendekati 1 baik itu untuk Pclass1 dan Pclass2."
   ]
  },
  {
   "cell_type": "code",
   "execution_count": 79,
   "metadata": {},
   "outputs": [
    {
     "data": {
      "image/png": "[encoded data removed]",
      "text/plain": [
       "<Figure size 1296x576 with 2 Axes>"
      ]
     },
     "metadata": {},
     "output_type": "display_data"
    }
   ],
   "source": [
    "f,ax=plt.subplots(1,2,figsize=(18,8))\n",
    "data2['Pclass'].value_counts().plot.bar(color=['#CD7F32','#FFDF00','#D3D3D3'],ax=ax[0])\n",
    "ax[0].set_title('Number Of Passengers By Pclass')\n",
    "ax[0].set_ylabel('Count')\n",
    "sns.countplot('Pclass',hue='Survived',data=data2,ax=ax[1])\n",
    "ax[1].set_title('Pclass:Survived vs Dead')\n",
    "plt.show()"
   ]
  },
  {
   "cell_type": "markdown",
   "metadata": {},
   "source": [
    "Dari diagram yang pertama kita dapat melihat bahwa jumlah penumpang di Pclass 3 paling banyak dibandingkan dengan penumpang di Pclass 1 dan Pclass 2. Akan tetapi, diagram yang kedua menunjukkan bahwa jumlah penumpang yang selamat paling banyak di Pclass 1 dan penumpang meninggal paling banyak di Pclass 3. Hal tersebut dikarenakan penumpang di Pclass 1 menjadi prioritas dalam pelayanan serta dalam upaya penyelamatan. "
   ]
  },
  {
   "cell_type": "markdown",
   "metadata": {},
   "source": [
    "##### Melihat tingkat kelangsungan hidup berdasarkan sex dan pclass secara bersama sama"
   ]
  },
  {
   "cell_type": "code",
   "execution_count": 81,
   "metadata": {},
   "outputs": [
    {
     "data": {
      "text/html": [
       "<style  type=\"text/css\" >\n",
       "    #T_9706881a_2c02_11ea_806e_28e347b45766row0_col0 {\n",
       "            background-color:  #ffff66;\n",
       "        }    #T_9706881a_2c02_11ea_806e_28e347b45766row0_col1 {\n",
       "            background-color:  #ffff66;\n",
       "        }    #T_9706881a_2c02_11ea_806e_28e347b45766row0_col2 {\n",
       "            background-color:  #f1f866;\n",
       "        }    #T_9706881a_2c02_11ea_806e_28e347b45766row0_col3 {\n",
       "            background-color:  #ffff66;\n",
       "        }    #T_9706881a_2c02_11ea_806e_28e347b45766row1_col0 {\n",
       "            background-color:  #96cb66;\n",
       "        }    #T_9706881a_2c02_11ea_806e_28e347b45766row1_col1 {\n",
       "            background-color:  #a3d166;\n",
       "        }    #T_9706881a_2c02_11ea_806e_28e347b45766row1_col2 {\n",
       "            background-color:  #f1f866;\n",
       "        }    #T_9706881a_2c02_11ea_806e_28e347b45766row1_col3 {\n",
       "            background-color:  #cfe766;\n",
       "        }    #T_9706881a_2c02_11ea_806e_28e347b45766row2_col0 {\n",
       "            background-color:  #a7d366;\n",
       "        }    #T_9706881a_2c02_11ea_806e_28e347b45766row2_col1 {\n",
       "            background-color:  #85c266;\n",
       "        }    #T_9706881a_2c02_11ea_806e_28e347b45766row2_col2 {\n",
       "            background-color:  #6eb666;\n",
       "        }    #T_9706881a_2c02_11ea_806e_28e347b45766row2_col3 {\n",
       "            background-color:  #85c266;\n",
       "        }    #T_9706881a_2c02_11ea_806e_28e347b45766row3_col0 {\n",
       "            background-color:  #cde666;\n",
       "        }    #T_9706881a_2c02_11ea_806e_28e347b45766row3_col1 {\n",
       "            background-color:  #f0f866;\n",
       "        }    #T_9706881a_2c02_11ea_806e_28e347b45766row3_col2 {\n",
       "            background-color:  #ffff66;\n",
       "        }    #T_9706881a_2c02_11ea_806e_28e347b45766row3_col3 {\n",
       "            background-color:  #f7fb66;\n",
       "        }    #T_9706881a_2c02_11ea_806e_28e347b45766row4_col0 {\n",
       "            background-color:  #008066;\n",
       "        }    #T_9706881a_2c02_11ea_806e_28e347b45766row4_col1 {\n",
       "            background-color:  #008066;\n",
       "        }    #T_9706881a_2c02_11ea_806e_28e347b45766row4_col2 {\n",
       "            background-color:  #008066;\n",
       "        }    #T_9706881a_2c02_11ea_806e_28e347b45766row4_col3 {\n",
       "            background-color:  #008066;\n",
       "        }</style>  \n",
       "<table id=\"T_9706881a_2c02_11ea_806e_28e347b45766\" > \n",
       "<thead>    <tr> \n",
       "        <th class=\"blank\" ></th> \n",
       "        <th class=\"index_name level0\" >Pclass</th> \n",
       "        <th class=\"col_heading level0 col0\" >1</th> \n",
       "        <th class=\"col_heading level0 col1\" >2</th> \n",
       "        <th class=\"col_heading level0 col2\" >3</th> \n",
       "        <th class=\"col_heading level0 col3\" >All</th> \n",
       "    </tr>    <tr> \n",
       "        <th class=\"index_name level0\" >Sex</th> \n",
       "        <th class=\"index_name level1\" >Survived</th> \n",
       "        <th class=\"blank\" ></th> \n",
       "        <th class=\"blank\" ></th> \n",
       "        <th class=\"blank\" ></th> \n",
       "        <th class=\"blank\" ></th> \n",
       "    </tr></thead> \n",
       "<tbody>    <tr> \n",
       "        <th id=\"T_9706881a_2c02_11ea_806e_28e347b45766level0_row0\" class=\"row_heading level0 row0\" rowspan=2>female</th> \n",
       "        <th id=\"T_9706881a_2c02_11ea_806e_28e347b45766level1_row0\" class=\"row_heading level1 row0\" >0</th> \n",
       "        <td id=\"T_9706881a_2c02_11ea_806e_28e347b45766row0_col0\" class=\"data row0 col0\" >3</td> \n",
       "        <td id=\"T_9706881a_2c02_11ea_806e_28e347b45766row0_col1\" class=\"data row0 col1\" >6</td> \n",
       "        <td id=\"T_9706881a_2c02_11ea_806e_28e347b45766row0_col2\" class=\"data row0 col2\" >72</td> \n",
       "        <td id=\"T_9706881a_2c02_11ea_806e_28e347b45766row0_col3\" class=\"data row0 col3\" >81</td> \n",
       "    </tr>    <tr> \n",
       "        <th id=\"T_9706881a_2c02_11ea_806e_28e347b45766level1_row1\" class=\"row_heading level1 row1\" >1</th> \n",
       "        <td id=\"T_9706881a_2c02_11ea_806e_28e347b45766row1_col0\" class=\"data row1 col0\" >91</td> \n",
       "        <td id=\"T_9706881a_2c02_11ea_806e_28e347b45766row1_col1\" class=\"data row1 col1\" >70</td> \n",
       "        <td id=\"T_9706881a_2c02_11ea_806e_28e347b45766row1_col2\" class=\"data row1 col2\" >72</td> \n",
       "        <td id=\"T_9706881a_2c02_11ea_806e_28e347b45766row1_col3\" class=\"data row1 col3\" >233</td> \n",
       "    </tr>    <tr> \n",
       "        <th id=\"T_9706881a_2c02_11ea_806e_28e347b45766level0_row2\" class=\"row_heading level0 row2\" rowspan=2>male</th> \n",
       "        <th id=\"T_9706881a_2c02_11ea_806e_28e347b45766level1_row2\" class=\"row_heading level1 row2\" >0</th> \n",
       "        <td id=\"T_9706881a_2c02_11ea_806e_28e347b45766row2_col0\" class=\"data row2 col0\" >77</td> \n",
       "        <td id=\"T_9706881a_2c02_11ea_806e_28e347b45766row2_col1\" class=\"data row2 col1\" >91</td> \n",
       "        <td id=\"T_9706881a_2c02_11ea_806e_28e347b45766row2_col2\" class=\"data row2 col2\" >300</td> \n",
       "        <td id=\"T_9706881a_2c02_11ea_806e_28e347b45766row2_col3\" class=\"data row2 col3\" >468</td> \n",
       "    </tr>    <tr> \n",
       "        <th id=\"T_9706881a_2c02_11ea_806e_28e347b45766level1_row3\" class=\"row_heading level1 row3\" >1</th> \n",
       "        <td id=\"T_9706881a_2c02_11ea_806e_28e347b45766row3_col0\" class=\"data row3 col0\" >45</td> \n",
       "        <td id=\"T_9706881a_2c02_11ea_806e_28e347b45766row3_col1\" class=\"data row3 col1\" >17</td> \n",
       "        <td id=\"T_9706881a_2c02_11ea_806e_28e347b45766row3_col2\" class=\"data row3 col2\" >47</td> \n",
       "        <td id=\"T_9706881a_2c02_11ea_806e_28e347b45766row3_col3\" class=\"data row3 col3\" >109</td> \n",
       "    </tr>    <tr> \n",
       "        <th id=\"T_9706881a_2c02_11ea_806e_28e347b45766level0_row4\" class=\"row_heading level0 row4\" >All</th> \n",
       "        <th id=\"T_9706881a_2c02_11ea_806e_28e347b45766level1_row4\" class=\"row_heading level1 row4\" ></th> \n",
       "        <td id=\"T_9706881a_2c02_11ea_806e_28e347b45766row4_col0\" class=\"data row4 col0\" >216</td> \n",
       "        <td id=\"T_9706881a_2c02_11ea_806e_28e347b45766row4_col1\" class=\"data row4 col1\" >184</td> \n",
       "        <td id=\"T_9706881a_2c02_11ea_806e_28e347b45766row4_col2\" class=\"data row4 col2\" >491</td> \n",
       "        <td id=\"T_9706881a_2c02_11ea_806e_28e347b45766row4_col3\" class=\"data row4 col3\" >891</td> \n",
       "    </tr></tbody> \n",
       "</table> "
      ],
      "text/plain": [
       "<pandas.io.formats.style.Styler at 0x23665f70>"
      ]
     },
     "execution_count": 81,
     "metadata": {},
     "output_type": "execute_result"
    }
   ],
   "source": [
    "pd.crosstab([data2.Sex,data.Survived],data2.Pclass,margins=True).style.background_gradient(cmap='summer_r')"
   ]
  },
  {
   "cell_type": "code",
   "execution_count": 4,
   "metadata": {},
   "outputs": [
    {
     "data": {
      "image/png": "[encoded data removed]",
      "text/plain": [
       "<Figure size 432.85x360 with 1 Axes>"
      ]
     },
     "metadata": {},
     "output_type": "display_data"
    }
   ],
   "source": [
    "sns.factorplot('Pclass','Survived',hue='Sex',data=data2)\n",
    "plt.show()"
   ]
  },
  {
   "cell_type": "markdown",
   "metadata": {},
   "source": [
    "Dengan menggunakan FactorPlot pemisahan nilai kategorik menjadi lebih mudah. Dari factorplot di atas dapat disimpulkan bahwa kelangsungan hidup penumpang perempuan dari Pclass1 adalah sekitar 95-96% karena hanya 3 dari 94 penumpang perempuan di Pclass1 yang meninggal.\n",
    "\n",
    "Jelas bahwa terlepas dari Pclass, penumpang perempuan diberi prioritas pertama saat penyelamatan. Bahkan Pria dari Pclass1 memiliki tingkat kelangsungan hidup yang sangat rendah."
   ]
  },
  {
   "cell_type": "markdown",
   "metadata": {},
   "source": [
    "##### Melihat penumpang yang selamat dan tidak selamat berdasarkan Age"
   ]
  },
  {
   "cell_type": "code",
   "execution_count": 7,
   "metadata": {},
   "outputs": [
    {
     "data": {
      "image/png": "[encoded data removed]",
      "text/plain": [
       "<Figure size 1296x576 with 2 Axes>"
      ]
     },
     "metadata": {},
     "output_type": "display_data"
    }
   ],
   "source": [
    "f,ax=plt.subplots(1,2,figsize=(18,8))\n",
    "sns.violinplot(\"Pclass\",\"Age\", hue=\"Survived\", data=data2,split=True,ax=ax[0])\n",
    "ax[0].set_title('Pclass and Age vs Survived')\n",
    "ax[0].set_yticks(range(0,110,10))\n",
    "sns.violinplot(\"Sex\",\"Age\", hue=\"Survived\", data=data2,split=True,ax=ax[1])\n",
    "ax[1].set_title('Sex and Age vs Survived')\n",
    "ax[1].set_yticks(range(0,110,10))\n",
    "plt.show()"
   ]
  },
  {
   "cell_type": "markdown",
   "metadata": {},
   "source": [
    "Dari violinplot di atas yaitu dengan melihat variabel Pclass, Age, dan Sex, terlihat bahwa peluang selamat bagi penumpang perempuan yang berusia 20-50 tahun cukup tinggi. Sedangkan untuk penumpang laki laki, peluang selamat semakin menurun dengan bertambahnya usia."
   ]
  },
  {
   "cell_type": "code",
   "execution_count": 14,
   "metadata": {},
   "outputs": [
    {
     "data": {
      "image/png": "[encoded data removed]",
      "text/plain": [
       "<Figure size 1440x720 with 2 Axes>"
      ]
     },
     "metadata": {},
     "output_type": "display_data"
    }
   ],
   "source": [
    "f,ax=plt.subplots(1,2,figsize=(20,10))\n",
    "data2[data2['Survived']==0].Age.plot.hist(ax=ax[0],bins=20,edgecolor='black',color='red')\n",
    "ax[0].set_title('Survived= 0')\n",
    "x1=list(range(0,85,5))\n",
    "ax[0].set_xticks(x1)\n",
    "data2[data2['Survived']==1].Age.plot.hist(ax=ax[1],color='green',bins=20,edgecolor='black')\n",
    "ax[1].set_title('Survived= 1')\n",
    "x2=list(range(0,85,5))\n",
    "ax[1].set_xticks(x2)\n",
    "plt.show()"
   ]
  },
  {
   "cell_type": "markdown",
   "metadata": {},
   "source": [
    "Balita yang berusia lebih dari 5 tahun banyak yang diselamatkan, karena perempuan dan anak anak lebih diprioritaskan. Selain itu juga berlaku untuk penumpang dengan usia 80 tahun ke atas. Rata rata kematian terbanyak berasal dari penumpang yang berusia antara 30 sampai 40 tahun."
   ]
  },
  {
   "cell_type": "code",
   "execution_count": 8,
   "metadata": {},
   "outputs": [
    {
     "data": {
      "image/png": "[encoded data removed]",
      "text/plain": [
       "<Figure size 1800x360 with 5 Axes>"
      ]
     },
     "metadata": {},
     "output_type": "display_data"
    }
   ],
   "source": [
    "sns.factorplot('Pclass','Survived',col='Initial',data=data2)\n",
    "plt.show()"
   ]
  },
  {
   "cell_type": "markdown",
   "metadata": {},
   "source": [
    "Terlihat bahwa penumpang perempuan dan anak anak menjadi prioritas utama dalam upaya penyelamatan, baik itu di Pclass 1, 2, dan 3."
   ]
  },
  {
   "cell_type": "markdown",
   "metadata": {},
   "source": [
    "##### Melihat jumlah penumpang yang selamat dan yang tidak selamat berdasarkan Family"
   ]
  },
  {
   "cell_type": "code",
   "execution_count": 76,
   "metadata": {},
   "outputs": [
    {
     "data": {
      "text/html": [
       "<style  type=\"text/css\" >\n",
       "    #T_5ddd5368_3398_11ea_b94e_28e347b45766row0_col0 {\n",
       "            background-color:  #008066;\n",
       "        }    #T_5ddd5368_3398_11ea_b94e_28e347b45766row0_col1 {\n",
       "            background-color:  #008066;\n",
       "        }    #T_5ddd5368_3398_11ea_b94e_28e347b45766row1_col0 {\n",
       "            background-color:  #d2e866;\n",
       "        }    #T_5ddd5368_3398_11ea_b94e_28e347b45766row1_col1 {\n",
       "            background-color:  #74ba66;\n",
       "        }    #T_5ddd5368_3398_11ea_b94e_28e347b45766row2_col0 {\n",
       "            background-color:  #e6f266;\n",
       "        }    #T_5ddd5368_3398_11ea_b94e_28e347b45766row2_col1 {\n",
       "            background-color:  #a3d166;\n",
       "        }    #T_5ddd5368_3398_11ea_b94e_28e347b45766row3_col0 {\n",
       "            background-color:  #fefe66;\n",
       "        }    #T_5ddd5368_3398_11ea_b94e_28e347b45766row3_col1 {\n",
       "            background-color:  #dfef66;\n",
       "        }    #T_5ddd5368_3398_11ea_b94e_28e347b45766row4_col0 {\n",
       "            background-color:  #fbfd66;\n",
       "        }    #T_5ddd5368_3398_11ea_b94e_28e347b45766row4_col1 {\n",
       "            background-color:  #fbfd66;\n",
       "        }    #T_5ddd5368_3398_11ea_b94e_28e347b45766row5_col0 {\n",
       "            background-color:  #f6fa66;\n",
       "        }    #T_5ddd5368_3398_11ea_b94e_28e347b45766row5_col1 {\n",
       "            background-color:  #fbfd66;\n",
       "        }    #T_5ddd5368_3398_11ea_b94e_28e347b45766row6_col0 {\n",
       "            background-color:  #fefe66;\n",
       "        }    #T_5ddd5368_3398_11ea_b94e_28e347b45766row6_col1 {\n",
       "            background-color:  #f9fc66;\n",
       "        }    #T_5ddd5368_3398_11ea_b94e_28e347b45766row7_col0 {\n",
       "            background-color:  #ffff66;\n",
       "        }    #T_5ddd5368_3398_11ea_b94e_28e347b45766row7_col1 {\n",
       "            background-color:  #ffff66;\n",
       "        }    #T_5ddd5368_3398_11ea_b94e_28e347b45766row8_col0 {\n",
       "            background-color:  #ffff66;\n",
       "        }    #T_5ddd5368_3398_11ea_b94e_28e347b45766row8_col1 {\n",
       "            background-color:  #ffff66;\n",
       "        }</style>  \n",
       "<table id=\"T_5ddd5368_3398_11ea_b94e_28e347b45766\" > \n",
       "<thead>    <tr> \n",
       "        <th class=\"index_name level0\" >Survived</th> \n",
       "        <th class=\"col_heading level0 col0\" >0</th> \n",
       "        <th class=\"col_heading level0 col1\" >1</th> \n",
       "    </tr>    <tr> \n",
       "        <th class=\"index_name level0\" >Family</th> \n",
       "        <th class=\"blank\" ></th> \n",
       "        <th class=\"blank\" ></th> \n",
       "    </tr></thead> \n",
       "<tbody>    <tr> \n",
       "        <th id=\"T_5ddd5368_3398_11ea_b94e_28e347b45766level0_row0\" class=\"row_heading level0 row0\" >0</th> \n",
       "        <td id=\"T_5ddd5368_3398_11ea_b94e_28e347b45766row0_col0\" class=\"data row0 col0\" >374</td> \n",
       "        <td id=\"T_5ddd5368_3398_11ea_b94e_28e347b45766row0_col1\" class=\"data row0 col1\" >163</td> \n",
       "    </tr>    <tr> \n",
       "        <th id=\"T_5ddd5368_3398_11ea_b94e_28e347b45766level0_row1\" class=\"row_heading level0 row1\" >1</th> \n",
       "        <td id=\"T_5ddd5368_3398_11ea_b94e_28e347b45766row1_col0\" class=\"data row1 col0\" >72</td> \n",
       "        <td id=\"T_5ddd5368_3398_11ea_b94e_28e347b45766row1_col1\" class=\"data row1 col1\" >89</td> \n",
       "    </tr>    <tr> \n",
       "        <th id=\"T_5ddd5368_3398_11ea_b94e_28e347b45766level0_row2\" class=\"row_heading level0 row2\" >2</th> \n",
       "        <td id=\"T_5ddd5368_3398_11ea_b94e_28e347b45766row2_col0\" class=\"data row2 col0\" >43</td> \n",
       "        <td id=\"T_5ddd5368_3398_11ea_b94e_28e347b45766row2_col1\" class=\"data row2 col1\" >59</td> \n",
       "    </tr>    <tr> \n",
       "        <th id=\"T_5ddd5368_3398_11ea_b94e_28e347b45766level0_row3\" class=\"row_heading level0 row3\" >3</th> \n",
       "        <td id=\"T_5ddd5368_3398_11ea_b94e_28e347b45766row3_col0\" class=\"data row3 col0\" >8</td> \n",
       "        <td id=\"T_5ddd5368_3398_11ea_b94e_28e347b45766row3_col1\" class=\"data row3 col1\" >21</td> \n",
       "    </tr>    <tr> \n",
       "        <th id=\"T_5ddd5368_3398_11ea_b94e_28e347b45766level0_row4\" class=\"row_heading level0 row4\" >4</th> \n",
       "        <td id=\"T_5ddd5368_3398_11ea_b94e_28e347b45766row4_col0\" class=\"data row4 col0\" >12</td> \n",
       "        <td id=\"T_5ddd5368_3398_11ea_b94e_28e347b45766row4_col1\" class=\"data row4 col1\" >3</td> \n",
       "    </tr>    <tr> \n",
       "        <th id=\"T_5ddd5368_3398_11ea_b94e_28e347b45766level0_row5\" class=\"row_heading level0 row5\" >5</th> \n",
       "        <td id=\"T_5ddd5368_3398_11ea_b94e_28e347b45766row5_col0\" class=\"data row5 col0\" >19</td> \n",
       "        <td id=\"T_5ddd5368_3398_11ea_b94e_28e347b45766row5_col1\" class=\"data row5 col1\" >3</td> \n",
       "    </tr>    <tr> \n",
       "        <th id=\"T_5ddd5368_3398_11ea_b94e_28e347b45766level0_row6\" class=\"row_heading level0 row6\" >6</th> \n",
       "        <td id=\"T_5ddd5368_3398_11ea_b94e_28e347b45766row6_col0\" class=\"data row6 col0\" >8</td> \n",
       "        <td id=\"T_5ddd5368_3398_11ea_b94e_28e347b45766row6_col1\" class=\"data row6 col1\" >4</td> \n",
       "    </tr>    <tr> \n",
       "        <th id=\"T_5ddd5368_3398_11ea_b94e_28e347b45766level0_row7\" class=\"row_heading level0 row7\" >7</th> \n",
       "        <td id=\"T_5ddd5368_3398_11ea_b94e_28e347b45766row7_col0\" class=\"data row7 col0\" >6</td> \n",
       "        <td id=\"T_5ddd5368_3398_11ea_b94e_28e347b45766row7_col1\" class=\"data row7 col1\" >0</td> \n",
       "    </tr>    <tr> \n",
       "        <th id=\"T_5ddd5368_3398_11ea_b94e_28e347b45766level0_row8\" class=\"row_heading level0 row8\" >10</th> \n",
       "        <td id=\"T_5ddd5368_3398_11ea_b94e_28e347b45766row8_col0\" class=\"data row8 col0\" >7</td> \n",
       "        <td id=\"T_5ddd5368_3398_11ea_b94e_28e347b45766row8_col1\" class=\"data row8 col1\" >0</td> \n",
       "    </tr></tbody> \n",
       "</table> "
      ],
      "text/plain": [
       "<pandas.io.formats.style.Styler at 0x11fb2ed0>"
      ]
     },
     "execution_count": 76,
     "metadata": {},
     "output_type": "execute_result"
    }
   ],
   "source": [
    "#Hubungan Survived dengan Family (jumlah orang tua/anak, istri dan kerabat yang ikut naik bersama)\n",
    "\n",
    "pd.crosstab([data2.Family],data2.Survived).style.background_gradient(cmap='summer_r')"
   ]
  },
  {
   "cell_type": "code",
   "execution_count": 79,
   "metadata": {},
   "outputs": [
    {
     "data": {
      "image/png": "[encoded data removed]",
      "text/plain": [
       "<Figure size 720x360 with 1 Axes>"
      ]
     },
     "metadata": {},
     "output_type": "display_data"
    }
   ],
   "source": [
    "bar_chart('Family')"
   ]
  },
  {
   "cell_type": "markdown",
   "metadata": {},
   "source": [
    "Terlihat bahwa seseorang yang naik dengan lebih dari 2 anggota keluarga lebih banyak yang selamat. Sedangkan yang meninggal lebih banyak dari penumpang yang tidak naik dengan anggota keluarga."
   ]
  },
  {
   "cell_type": "code",
   "execution_count": 80,
   "metadata": {},
   "outputs": [
    {
     "data": {
      "text/html": [
       "<style  type=\"text/css\" >\n",
       "    #T_d3c38022_3398_11ea_b443_28e347b45766row0_col0 {\n",
       "            background-color:  #008066;\n",
       "        }    #T_d3c38022_3398_11ea_b443_28e347b45766row0_col1 {\n",
       "            background-color:  #008066;\n",
       "        }    #T_d3c38022_3398_11ea_b443_28e347b45766row0_col2 {\n",
       "            background-color:  #008066;\n",
       "        }    #T_d3c38022_3398_11ea_b443_28e347b45766row1_col0 {\n",
       "            background-color:  #5bad66;\n",
       "        }    #T_d3c38022_3398_11ea_b443_28e347b45766row1_col1 {\n",
       "            background-color:  #acd666;\n",
       "        }    #T_d3c38022_3398_11ea_b443_28e347b45766row1_col2 {\n",
       "            background-color:  #d6eb66;\n",
       "        }    #T_d3c38022_3398_11ea_b443_28e347b45766row2_col0 {\n",
       "            background-color:  #c7e366;\n",
       "        }    #T_d3c38022_3398_11ea_b443_28e347b45766row2_col1 {\n",
       "            background-color:  #b3d966;\n",
       "        }    #T_d3c38022_3398_11ea_b443_28e347b45766row2_col2 {\n",
       "            background-color:  #deee66;\n",
       "        }    #T_d3c38022_3398_11ea_b443_28e347b45766row3_col0 {\n",
       "            background-color:  #eff766;\n",
       "        }    #T_d3c38022_3398_11ea_b443_28e347b45766row3_col1 {\n",
       "            background-color:  #dfef66;\n",
       "        }    #T_d3c38022_3398_11ea_b443_28e347b45766row3_col2 {\n",
       "            background-color:  #fdfe66;\n",
       "        }    #T_d3c38022_3398_11ea_b443_28e347b45766row4_col0 {\n",
       "            background-color:  #fbfd66;\n",
       "        }    #T_d3c38022_3398_11ea_b443_28e347b45766row4_col1 {\n",
       "            background-color:  #fdfe66;\n",
       "        }    #T_d3c38022_3398_11ea_b443_28e347b45766row4_col2 {\n",
       "            background-color:  #fbfd66;\n",
       "        }    #T_d3c38022_3398_11ea_b443_28e347b45766row5_col0 {\n",
       "            background-color:  #f6fa66;\n",
       "        }    #T_d3c38022_3398_11ea_b443_28e347b45766row5_col1 {\n",
       "            background-color:  #fdfe66;\n",
       "        }    #T_d3c38022_3398_11ea_b443_28e347b45766row5_col2 {\n",
       "            background-color:  #f7fb66;\n",
       "        }    #T_d3c38022_3398_11ea_b443_28e347b45766row6_col0 {\n",
       "            background-color:  #ffff66;\n",
       "        }    #T_d3c38022_3398_11ea_b443_28e347b45766row6_col1 {\n",
       "            background-color:  #ffff66;\n",
       "        }    #T_d3c38022_3398_11ea_b443_28e347b45766row6_col2 {\n",
       "            background-color:  #fbfd66;\n",
       "        }    #T_d3c38022_3398_11ea_b443_28e347b45766row7_col0 {\n",
       "            background-color:  #ffff66;\n",
       "        }    #T_d3c38022_3398_11ea_b443_28e347b45766row7_col1 {\n",
       "            background-color:  #ffff66;\n",
       "        }    #T_d3c38022_3398_11ea_b443_28e347b45766row7_col2 {\n",
       "            background-color:  #ffff66;\n",
       "        }    #T_d3c38022_3398_11ea_b443_28e347b45766row8_col0 {\n",
       "            background-color:  #ffff66;\n",
       "        }    #T_d3c38022_3398_11ea_b443_28e347b45766row8_col1 {\n",
       "            background-color:  #ffff66;\n",
       "        }    #T_d3c38022_3398_11ea_b443_28e347b45766row8_col2 {\n",
       "            background-color:  #ffff66;\n",
       "        }</style>  \n",
       "<table id=\"T_d3c38022_3398_11ea_b443_28e347b45766\" > \n",
       "<thead>    <tr> \n",
       "        <th class=\"index_name level0\" >Pclass</th> \n",
       "        <th class=\"col_heading level0 col0\" >1</th> \n",
       "        <th class=\"col_heading level0 col1\" >2</th> \n",
       "        <th class=\"col_heading level0 col2\" >3</th> \n",
       "    </tr>    <tr> \n",
       "        <th class=\"index_name level0\" >Family</th> \n",
       "        <th class=\"blank\" ></th> \n",
       "        <th class=\"blank\" ></th> \n",
       "        <th class=\"blank\" ></th> \n",
       "    </tr></thead> \n",
       "<tbody>    <tr> \n",
       "        <th id=\"T_d3c38022_3398_11ea_b443_28e347b45766level0_row0\" class=\"row_heading level0 row0\" >0</th> \n",
       "        <td id=\"T_d3c38022_3398_11ea_b443_28e347b45766row0_col0\" class=\"data row0 col0\" >109</td> \n",
       "        <td id=\"T_d3c38022_3398_11ea_b443_28e347b45766row0_col1\" class=\"data row0 col1\" >104</td> \n",
       "        <td id=\"T_d3c38022_3398_11ea_b443_28e347b45766row0_col2\" class=\"data row0 col2\" >324</td> \n",
       "    </tr>    <tr> \n",
       "        <th id=\"T_d3c38022_3398_11ea_b443_28e347b45766level0_row1\" class=\"row_heading level0 row1\" >1</th> \n",
       "        <td id=\"T_d3c38022_3398_11ea_b443_28e347b45766row1_col0\" class=\"data row1 col0\" >70</td> \n",
       "        <td id=\"T_d3c38022_3398_11ea_b443_28e347b45766row1_col1\" class=\"data row1 col1\" >34</td> \n",
       "        <td id=\"T_d3c38022_3398_11ea_b443_28e347b45766row1_col2\" class=\"data row1 col2\" >57</td> \n",
       "    </tr>    <tr> \n",
       "        <th id=\"T_d3c38022_3398_11ea_b443_28e347b45766level0_row2\" class=\"row_heading level0 row2\" >2</th> \n",
       "        <td id=\"T_d3c38022_3398_11ea_b443_28e347b45766row2_col0\" class=\"data row2 col0\" >24</td> \n",
       "        <td id=\"T_d3c38022_3398_11ea_b443_28e347b45766row2_col1\" class=\"data row2 col1\" >31</td> \n",
       "        <td id=\"T_d3c38022_3398_11ea_b443_28e347b45766row2_col2\" class=\"data row2 col2\" >47</td> \n",
       "    </tr>    <tr> \n",
       "        <th id=\"T_d3c38022_3398_11ea_b443_28e347b45766level0_row3\" class=\"row_heading level0 row3\" >3</th> \n",
       "        <td id=\"T_d3c38022_3398_11ea_b443_28e347b45766row3_col0\" class=\"data row3 col0\" >7</td> \n",
       "        <td id=\"T_d3c38022_3398_11ea_b443_28e347b45766row3_col1\" class=\"data row3 col1\" >13</td> \n",
       "        <td id=\"T_d3c38022_3398_11ea_b443_28e347b45766row3_col2\" class=\"data row3 col2\" >9</td> \n",
       "    </tr>    <tr> \n",
       "        <th id=\"T_d3c38022_3398_11ea_b443_28e347b45766level0_row4\" class=\"row_heading level0 row4\" >4</th> \n",
       "        <td id=\"T_d3c38022_3398_11ea_b443_28e347b45766row4_col0\" class=\"data row4 col0\" >2</td> \n",
       "        <td id=\"T_d3c38022_3398_11ea_b443_28e347b45766row4_col1\" class=\"data row4 col1\" >1</td> \n",
       "        <td id=\"T_d3c38022_3398_11ea_b443_28e347b45766row4_col2\" class=\"data row4 col2\" >12</td> \n",
       "    </tr>    <tr> \n",
       "        <th id=\"T_d3c38022_3398_11ea_b443_28e347b45766level0_row5\" class=\"row_heading level0 row5\" >5</th> \n",
       "        <td id=\"T_d3c38022_3398_11ea_b443_28e347b45766row5_col0\" class=\"data row5 col0\" >4</td> \n",
       "        <td id=\"T_d3c38022_3398_11ea_b443_28e347b45766row5_col1\" class=\"data row5 col1\" >1</td> \n",
       "        <td id=\"T_d3c38022_3398_11ea_b443_28e347b45766row5_col2\" class=\"data row5 col2\" >17</td> \n",
       "    </tr>    <tr> \n",
       "        <th id=\"T_d3c38022_3398_11ea_b443_28e347b45766level0_row6\" class=\"row_heading level0 row6\" >6</th> \n",
       "        <td id=\"T_d3c38022_3398_11ea_b443_28e347b45766row6_col0\" class=\"data row6 col0\" >0</td> \n",
       "        <td id=\"T_d3c38022_3398_11ea_b443_28e347b45766row6_col1\" class=\"data row6 col1\" >0</td> \n",
       "        <td id=\"T_d3c38022_3398_11ea_b443_28e347b45766row6_col2\" class=\"data row6 col2\" >12</td> \n",
       "    </tr>    <tr> \n",
       "        <th id=\"T_d3c38022_3398_11ea_b443_28e347b45766level0_row7\" class=\"row_heading level0 row7\" >7</th> \n",
       "        <td id=\"T_d3c38022_3398_11ea_b443_28e347b45766row7_col0\" class=\"data row7 col0\" >0</td> \n",
       "        <td id=\"T_d3c38022_3398_11ea_b443_28e347b45766row7_col1\" class=\"data row7 col1\" >0</td> \n",
       "        <td id=\"T_d3c38022_3398_11ea_b443_28e347b45766row7_col2\" class=\"data row7 col2\" >6</td> \n",
       "    </tr>    <tr> \n",
       "        <th id=\"T_d3c38022_3398_11ea_b443_28e347b45766level0_row8\" class=\"row_heading level0 row8\" >10</th> \n",
       "        <td id=\"T_d3c38022_3398_11ea_b443_28e347b45766row8_col0\" class=\"data row8 col0\" >0</td> \n",
       "        <td id=\"T_d3c38022_3398_11ea_b443_28e347b45766row8_col1\" class=\"data row8 col1\" >0</td> \n",
       "        <td id=\"T_d3c38022_3398_11ea_b443_28e347b45766row8_col2\" class=\"data row8 col2\" >7</td> \n",
       "    </tr></tbody> \n",
       "</table> "
      ],
      "text/plain": [
       "<pandas.io.formats.style.Styler at 0xbc1ee30>"
      ]
     },
     "execution_count": 80,
     "metadata": {},
     "output_type": "execute_result"
    }
   ],
   "source": [
    "pd.crosstab(data2.Family,data2.Pclass).style.background_gradient(cmap='summer_r')"
   ]
  },
  {
   "cell_type": "markdown",
   "metadata": {},
   "source": [
    "Dari bar chart dan crosstab diatas terlihat bahwa seorang penumpang yang naik dengan lebih dari 2 anggota keluarga cenderung lebih banyak yang selamat. Sedangkan penumpang yang naik sendiri lebih banyak yang meningal. Sehingga kemungkinan jika kita memiliki anggota keluarga yang ikut naik bersama, maka kita akan mencoba menyelamatkan mereka alih-alih menyelamatkan diri terlebih dahulu.\n",
    "\n",
    "Peluang bertahan hidup dapat dikatakan baik untuk penumpang yang memiliki 1-3 anggota keluarga yang ikut naik bersama di kapal. Akan tetapi peluang bertahan hidup semakin berkurang ketika seseorang memiliki lebih dari 4 anggota keluarga.\n",
    "\n",
    "Crosstab juga menunjukkan bahwa penumpang dengan jumlah anggota keluarga lebih dari 3 maka semuanya ada di Pclass 3. Artinya keluarga besar berada di Pclass 3."
   ]
  },
  {
   "cell_type": "markdown",
   "metadata": {},
   "source": [
    "##### Correlation Data"
   ]
  },
  {
   "cell_type": "code",
   "execution_count": 89,
   "metadata": {},
   "outputs": [
    {
     "data": {
      "image/png": "[encoded data removed]",
      "text/plain": [
       "<Figure size 720x576 with 2 Axes>"
      ]
     },
     "metadata": {},
     "output_type": "display_data"
    }
   ],
   "source": [
    "# HeatMap untuk menyelidiki korelasi\n",
    "\n",
    "sns.heatmap(data2.corr(),annot=True,cmap='RdYlGn',linewidths=0.2)\n",
    "fig=plt.gcf()\n",
    "fig.set_size_inches(10,8)\n",
    "plt.show()"
   ]
  },
  {
   "cell_type": "markdown",
   "metadata": {},
   "source": [
    "##### Kesimpulan"
   ]
  },
  {
   "cell_type": "markdown",
   "metadata": {},
   "source": [
    "Jika dilihat dari semua variabel, maka kita dapat menyimpulkan beberapa hal, yaitu\n",
    "\n",
    "Berdasarkan Gender: Peluang untuk bertahan hidup bagi penumpang wanita jauh lebih tinggi dibandingkan dengan peluang hidup penumpang laki laki.\n",
    "\n",
    "Berdasarkan Pclass: Menjadi penumpang pada Pclass 1 ternyata memang dapat memberikan keuntungan yang besar untuk para penumpangnya, karena mereka menjadi prioritas dalam pelayanan maupun dalam upaya penyelamatan. Sehingga peluang bertahan hidup pun lebih besar. Berbeda dengan penumpang di Pclass 3 yang memiliki tingkat kelangsungan hidup yang sangat rendah. Adapun bagi penumpang wanita, peluang bertahan hidup dari Pclass 1 hampir mendekati angka 1 dan begitupun bagi penumpang wanita dari Pclass 2. Sehingga dalam hal ini uang cukup berpengaruh.\n",
    "\n",
    "Berdasarkan Usia: Anak-anak dengan usia 5-10 tahun memiliki peluang bertahan hidup yang tinggi. Sedangkan bagi penumpang yang berusia antara 15-35 lebih banyak yang meninggal.\n",
    "\n",
    "Berdasarkan Embarked: Dengan melihat variabel embarked, penumpang dari pelabuhan C memiliki tingkat kelangsungan hidup yang tinggi, sedangkan penumpang dari pelabuhan S lebih banyak yang meninggal dan memiliki tingkat kelangsungan hidup yang rendah. Hal ini terlihat cukup menarik, dimana kita tahu bahwa mayoritas penumpang Pclass 1 di S dan penumpang di Q semuanya penumpang dari Pclass 3.\n",
    "\n",
    "Berdasarkan Family: Penumpang yang naik bersama dengan 1-2 anggota keluarga baik itu pasangan, orang tua ataupun kerabat menunjukkan kemungkinan bertahan hidup yang lebih besar daripada penumpang yang naik sendiri tanpa ditemani dengan keluarga besar. Sehingga kemungkinan jika kita memiliki anggota keluarga yang ikut naik bersama, maka kita akan mencoba menyelamatkan mereka alih-alih menyelamatkan diri terlebih dahulu."
   ]
  },
  {
   "cell_type": "markdown",
   "metadata": {},
   "source": [
    "#### 3) Predicting Survival based on Random Forest Model "
   ]
  },
  {
   "cell_type": "code",
   "execution_count": 81,
   "metadata": {},
   "outputs": [
    {
     "data": {
      "text/plain": [
       "Index(['Survived', 'Pclass', 'Name', 'Sex', 'Age', 'Fare', 'Embarked',\n",
       "       'Initial', 'Family'],\n",
       "      dtype='object')"
      ]
     },
     "execution_count": 81,
     "metadata": {},
     "output_type": "execute_result"
    }
   ],
   "source": [
    "data2.columns"
   ]
  },
  {
   "cell_type": "code",
   "execution_count": 91,
   "metadata": {},
   "outputs": [],
   "source": [
    "dataML = data2[['Survived', 'Pclass', 'Name', 'Sex', 'Age','Fare','Embarked', 'Initial', 'Family']]"
   ]
  },
  {
   "cell_type": "code",
   "execution_count": 83,
   "metadata": {},
   "outputs": [
    {
     "data": {
      "text/plain": [
       "Survived    0\n",
       "Pclass      0\n",
       "Name        0\n",
       "Sex         0\n",
       "Age         0\n",
       "Fare        0\n",
       "Embarked    0\n",
       "Initial     0\n",
       "Family      0\n",
       "dtype: int64"
      ]
     },
     "execution_count": 83,
     "metadata": {},
     "output_type": "execute_result"
    }
   ],
   "source": [
    "# Cek Missing Value\n",
    "dataML.isnull().sum()"
   ]
  },
  {
   "cell_type": "code",
   "execution_count": 86,
   "metadata": {},
   "outputs": [
    {
     "data": {
      "text/plain": [
       "0.9506172839506173"
      ]
     },
     "execution_count": 86,
     "metadata": {},
     "output_type": "execute_result"
    }
   ],
   "source": [
    "from sklearn.ensemble import RandomForestClassifier\n",
    "x =dataML[['Age','Fare','Family']].values # Hanya mengambil data numerik\n",
    "y = dataML['Survived'].values\n",
    "RF = RandomForestClassifier()\n",
    "RF.fit(x, y)\n",
    "\n",
    "# Make a prediction\n",
    "y_predict = RF.predict(x)\n",
    "y_predict[:10]\n",
    "(y == y_predict).mean()"
   ]
  },
  {
   "cell_type": "markdown",
   "metadata": {},
   "source": [
    "Terlihat akurasi dari model yang sangat baik yaitu sebesar 0.95."
   ]
  },
  {
   "cell_type": "markdown",
   "metadata": {},
   "source": [
    "##### Menyimpan Data Baru Hasil Preprocessing"
   ]
  },
  {
   "cell_type": "code",
   "execution_count": 87,
   "metadata": {},
   "outputs": [],
   "source": [
    "data2.to_csv(\"Data_Preprocessed.csv\", encoding='utf8')"
   ]
  }
 ],
 "metadata": {
  "kernelspec": {
   "display_name": "Python 3",
   "language": "python",
   "name": "python3"
  },
  "language_info": {
   "codemirror_mode": {
    "name": "ipython",
    "version": 3
   },
   "file_extension": ".py",
   "mimetype": "text/x-python",
   "name": "python",
   "nbconvert_exporter": "python",
   "pygments_lexer": "ipython3",
   "version": "3.6.5"
  }
 },
 "nbformat": 4,
 "nbformat_minor": 2
}
